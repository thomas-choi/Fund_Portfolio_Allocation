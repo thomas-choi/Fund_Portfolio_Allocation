{
 "cells": [
  {
   "cell_type": "code",
   "execution_count": 1,
   "id": "5b7c0297-8916-4e3e-b863-024f68650bbb",
   "metadata": {},
   "outputs": [],
   "source": [
    "import investpy\n",
    "import mstarpy\n",
    "import pandas as pd\n",
    "import yfinance as yf"
   ]
  },
  {
   "cell_type": "code",
   "execution_count": 2,
   "id": "53870aff-754c-4895-af61-0b82b2cd26d6",
   "metadata": {},
   "outputs": [
    {
     "name": "stdout",
     "output_type": "stream",
     "text": [
      "['andorra', 'australia', 'austria', 'bahrain', 'belgium', 'bermuda', 'brazil', 'canada', 'cayman islands', 'chile', 'china', 'czech republic', 'denmark', 'estonia', 'finland', 'france', 'germany', 'gibraltar', 'greece', 'hong kong', 'hungary', 'iceland', 'india', 'indonesia', 'ireland', 'israel', 'italy', 'japan', 'latvia', 'liechtenstein', 'lithuania', 'luxembourg', 'malaysia', 'malta', 'mauritius', 'mexico', 'monaco', 'namibia', 'netherlands', 'new zealand', 'norway', 'oman', 'pakistan', 'philippines', 'poland', 'portugal', 'qatar', 'russia', 'saudi arabia', 'singapore', 'slovenia', 'south africa', 'south korea', 'spain', 'sweden', 'switzerland', 'taiwan', 'thailand', 'dubai', 'united kingdom', 'united states', 'vietnam']\n"
     ]
    }
   ],
   "source": [
    "countries = investpy.funds.get_fund_countries()\n",
    "\n",
    "print(countries)"
   ]
  },
  {
   "cell_type": "code",
   "execution_count": 118,
   "id": "108dac0d-2bfd-46ad-a836-7238b3cf8bdd",
   "metadata": {},
   "outputs": [],
   "source": [
    "def inv_funds():\n",
    "    # fund_dict = investpy.funds.get_funds_dict(country='united states')\n",
    "    df = investpy.funds.get_funds(country='united states')\n",
    "    return df\n",
    "\n",
    "def us_funds(pageSize=100):\n",
    "    # Define the search criteria\n",
    "    term = \"\"  # You can specify a term to filter funds, or leave it empty to get all funds\n",
    "    country = \"us\"  # Specify the country    \n",
    "    # Retrieve the list of funds\n",
    "    fields = [\"Name\", \"ISIN\", \"fundShareClassId\", \"Ticker\", \"CategoryName\", \"yieldPercent\",\"currency\",]\n",
    "    fields = [\"Name\", \"fundShareClassId\", \"ISIN\"]\n",
    "                                                      \n",
    "    response = mstarpy.search_funds(term=term, field=fields, country=country, pageSize=pageSize)\n",
    "    # \"investmentType\",\n",
    "    # Convert the response to a pandas DataFrame\n",
    "    df = pd.DataFrame(response)\n",
    "    # df['fundSize'] = df['fundSize'].astype(float)\n",
    "    return df"
   ]
  },
  {
   "cell_type": "code",
   "execution_count": 119,
   "id": "2345b794-3b71-4fa8-82b1-11f7612b4b6d",
   "metadata": {},
   "outputs": [
    {
     "name": "stdout",
     "output_type": "stream",
     "text": [
      "(50, 3)\n"
     ]
    }
   ],
   "source": [
    "fund_df = us_funds(50)\n",
    "print(fund_df.shape)\n",
    "# fund_df.to_csv('MS_FUND.csv', index=False)"
   ]
  },
  {
   "cell_type": "code",
   "execution_count": 120,
   "id": "aa7d2522-5d35-4a60-9b6d-3e169e11df4a",
   "metadata": {},
   "outputs": [
    {
     "data": {
      "text/html": [
       "<div>\n",
       "<style scoped>\n",
       "    .dataframe tbody tr th:only-of-type {\n",
       "        vertical-align: middle;\n",
       "    }\n",
       "\n",
       "    .dataframe tbody tr th {\n",
       "        vertical-align: top;\n",
       "    }\n",
       "\n",
       "    .dataframe thead th {\n",
       "        text-align: right;\n",
       "    }\n",
       "</style>\n",
       "<table border=\"1\" class=\"dataframe\">\n",
       "  <thead>\n",
       "    <tr style=\"text-align: right;\">\n",
       "      <th></th>\n",
       "      <th>Name</th>\n",
       "      <th>fundShareClassId</th>\n",
       "      <th>ISIN</th>\n",
       "    </tr>\n",
       "  </thead>\n",
       "  <tbody>\n",
       "    <tr>\n",
       "      <th>0</th>\n",
       "      <td>1290 Avantis U.S. Large Cap Growth A</td>\n",
       "      <td>F00000WK3T</td>\n",
       "      <td>US68259P6209</td>\n",
       "    </tr>\n",
       "    <tr>\n",
       "      <th>1</th>\n",
       "      <td>1290 Avantis U.S. Large Cap Growth I</td>\n",
       "      <td>F00000WK3V</td>\n",
       "      <td>US68259P5961</td>\n",
       "    </tr>\n",
       "    <tr>\n",
       "      <th>2</th>\n",
       "      <td>1290 Diversified Bond A</td>\n",
       "      <td>F00000VPDY</td>\n",
       "      <td>US68246A7101</td>\n",
       "    </tr>\n",
       "    <tr>\n",
       "      <th>3</th>\n",
       "      <td>1290 Diversified Bond I</td>\n",
       "      <td>F00000VPDZ</td>\n",
       "      <td>US68246A6863</td>\n",
       "    </tr>\n",
       "    <tr>\n",
       "      <th>4</th>\n",
       "      <td>1290 Diversified Bond R</td>\n",
       "      <td>F00000VPE0</td>\n",
       "      <td>US68246A6780</td>\n",
       "    </tr>\n",
       "  </tbody>\n",
       "</table>\n",
       "</div>"
      ],
      "text/plain": [
       "                                   Name fundShareClassId          ISIN\n",
       "0  1290 Avantis U.S. Large Cap Growth A       F00000WK3T  US68259P6209\n",
       "1  1290 Avantis U.S. Large Cap Growth I       F00000WK3V  US68259P5961\n",
       "2               1290 Diversified Bond A       F00000VPDY  US68246A7101\n",
       "3               1290 Diversified Bond I       F00000VPDZ  US68246A6863\n",
       "4               1290 Diversified Bond R       F00000VPE0  US68246A6780"
      ]
     },
     "execution_count": 120,
     "metadata": {},
     "output_type": "execute_result"
    }
   ],
   "source": [
    "fund_df.head()"
   ]
  },
  {
   "cell_type": "code",
   "execution_count": 58,
   "id": "926f34c8-462a-4e4f-ae25-84458411b847",
   "metadata": {
    "scrolled": true
   },
   "outputs": [
    {
     "data": {
      "text/plain": [
       "array(['Large Growth', 'Intermediate Core-Plus Bond', 'Small Growth',\n",
       "       'Small Value', 'High Yield Bond',\n",
       "       'Moderately Conservative Allocation', 'Multistrategy',\n",
       "       'Target-Date 2020', 'Target-Date 2025', 'Target-Date 2030',\n",
       "       'Target-Date 2035', 'Target-Date 2040', 'Target-Date 2045',\n",
       "       'Target-Date 2050', 'Target-Date 2055', 'Global Large-Stock Blend',\n",
       "       'Mid-Cap Blend', 'Large Value', 'Financial', 'Moderate Allocation',\n",
       "       'Ultrashort Bond', 'Corporate Bond', 'Large Blend', 'China Region',\n",
       "       'Short-Term Inflation-Protected Bond', 'Foreign Large Growth',\n",
       "       'Miscellaneous Fixed Income', 'Mid-Cap Growth',\n",
       "       'Muni National Short', 'Diversified Emerging Mkts',\n",
       "       'Global Bond-USD Hedged', 'Global Real Estate',\n",
       "       'Tactical Allocation', 'High Yield Muni',\n",
       "       'Muni Single State Short', 'Intermediate Core Bond',\n",
       "       'Foreign Small/Mid Blend ', 'Foreign Large Blend',\n",
       "       'Foreign Large Value', 'Mid-Cap Value',\n",
       "       'Muni California Intermediate', 'Muni Single State Interm',\n",
       "       'Muni Massachusetts', 'Muni Minnesota', 'Muni New Jersey',\n",
       "       'Muni Ohio', 'Muni Pennsylvania', 'Muni National Interm',\n",
       "       'Muni New York Intermediate', 'Long-Short Equity', 'Small Blend',\n",
       "       'Global Large-Stock Growth', 'Systematic Trend', 'Infrastructure',\n",
       "       'Foreign Small/Mid Growth', 'Real Estate', 'Equity Market Neutral',\n",
       "       'Relative Value Arbitrage', 'Convertibles',\n",
       "       'Trading--Inverse Debt', 'Multisector Bond',\n",
       "       'Aggressive Allocation', 'Technology', 'Health', 'Miscellaneous',\n",
       "       'Global Allocation', 'Muni California Long',\n",
       "       'Moderately Aggressive Allocation', 'Intermediate Government',\n",
       "       'Muni National Long', 'Equity Precious Metals',\n",
       "       'Inflation-Protected Bond', 'Short Government', 'Short-Term Bond',\n",
       "       'Global Small/Mid Stock', 'Conservative Allocation', 'Utilities',\n",
       "       'Options Trading', 'Commodities Broad Basket', 'India Equity ',\n",
       "       'Emerging Markets Bond', 'Bank Loan', 'Target-Date 2060',\n",
       "       'Target-Date 2065+', 'Target-Date Retirement', 'Target-Date 2015',\n",
       "       'Target-Date 2000-2010', 'Global Bond', 'Muni New York Long',\n",
       "       'Diversified Arbitrage', 'Pacific/Asia ex-Japan Stk',\n",
       "       'Global Large-Stock Value', 'Foreign Small/Mid Value',\n",
       "       'US Large-Cap Growth Equity', 'Nontraditional Bond',\n",
       "       'Preferred Stock', 'Macro Trading',\n",
       "       'Emerging-Markets Local-Currency Bond', 'Event Driven',\n",
       "       'Derivative Income', 'Digital Assets', 'Equity Energy',\n",
       "       'Europe Stock', 'Natural Resources', 'Energy Limited Partnership',\n",
       "       'Greater China Equity', 'Miscellaneous Region', 'Japan Stock',\n",
       "       'Trading--Leveraged Equity', 'Trading--Inverse Equity',\n",
       "       'Long-Term Bond', 'Muni Single State Long',\n",
       "       'Trading--Leveraged Debt', 'Long Government', 'Communications',\n",
       "       'Latin America Stock', 'Long/Short Equity - Europe',\n",
       "       'Global Small/Mid-Cap Equity', 'Consumer Cyclical',\n",
       "       'Consumer Defensive', 'Industrials', 'Muni Target Maturity',\n",
       "       'Diversified Pacific/Asia', 'Miscellaneous Sector',\n",
       "       'Money Market-Taxable', 'Global Long/Short Equity',\n",
       "       'Target Maturity', 'Trading--Miscellaneous',\n",
       "       'Trading--Inverse Commodities', 'GBP Allocation 40-60% Equity',\n",
       "       'GBP Allocation 60-80% Equity', 'Systematic Trend EUR',\n",
       "       'USD Aggressive Allocation', 'USD Moderate Allocation',\n",
       "       'USD Cautious Allocation', 'Other Equity',\n",
       "       'Global Emerging Markets Allocation', 'Other',\n",
       "       'Commodities Focused', 'US Large-Cap Blend Equity',\n",
       "       'Canadian Focused Equity'], dtype=object)"
      ]
     },
     "execution_count": 58,
     "metadata": {},
     "output_type": "execute_result"
    }
   ],
   "source": [
    "fund_df.CategoryName.unique()"
   ]
  },
  {
   "cell_type": "code",
   "execution_count": 60,
   "id": "f1e652f8-f783-40d3-bdc7-5b9abf09ebea",
   "metadata": {},
   "outputs": [
    {
     "data": {
      "text/html": [
       "<div>\n",
       "<style scoped>\n",
       "    .dataframe tbody tr th:only-of-type {\n",
       "        vertical-align: middle;\n",
       "    }\n",
       "\n",
       "    .dataframe tbody tr th {\n",
       "        vertical-align: top;\n",
       "    }\n",
       "\n",
       "    .dataframe thead th {\n",
       "        text-align: right;\n",
       "    }\n",
       "</style>\n",
       "<table border=\"1\" class=\"dataframe\">\n",
       "  <thead>\n",
       "    <tr style=\"text-align: right;\">\n",
       "      <th></th>\n",
       "      <th>Name</th>\n",
       "      <th>ISIN</th>\n",
       "      <th>fundShareClassId</th>\n",
       "      <th>investmentType</th>\n",
       "      <th>Ticker</th>\n",
       "      <th>CategoryName</th>\n",
       "      <th>currency</th>\n",
       "    </tr>\n",
       "  </thead>\n",
       "  <tbody>\n",
       "    <tr>\n",
       "      <th>0</th>\n",
       "      <td>1290 Avantis U.S. Large Cap Growth A</td>\n",
       "      <td>US68259P6209</td>\n",
       "      <td>F00000WK3T</td>\n",
       "      <td>FO</td>\n",
       "      <td>TNRAX</td>\n",
       "      <td>Large Growth</td>\n",
       "      <td>USD</td>\n",
       "    </tr>\n",
       "    <tr>\n",
       "      <th>1</th>\n",
       "      <td>1290 Avantis U.S. Large Cap Growth I</td>\n",
       "      <td>US68259P5961</td>\n",
       "      <td>F00000WK3V</td>\n",
       "      <td>FO</td>\n",
       "      <td>TNXIX</td>\n",
       "      <td>Large Growth</td>\n",
       "      <td>USD</td>\n",
       "    </tr>\n",
       "    <tr>\n",
       "      <th>5</th>\n",
       "      <td>1290 Essex Small Cap Growth A</td>\n",
       "      <td>US68246Y5024</td>\n",
       "      <td>F00001DS5W</td>\n",
       "      <td>FO</td>\n",
       "      <td>ESCFX</td>\n",
       "      <td>Small Growth</td>\n",
       "      <td>USD</td>\n",
       "    </tr>\n",
       "    <tr>\n",
       "      <th>6</th>\n",
       "      <td>1290 Essex Small Cap Growth I</td>\n",
       "      <td>US68246Y7004</td>\n",
       "      <td>F00001DS5U</td>\n",
       "      <td>FO</td>\n",
       "      <td>ESCJX</td>\n",
       "      <td>Small Growth</td>\n",
       "      <td>USD</td>\n",
       "    </tr>\n",
       "    <tr>\n",
       "      <th>7</th>\n",
       "      <td>1290 Essex Small Cap Growth R</td>\n",
       "      <td>US68246Y8093</td>\n",
       "      <td>F00001DS5V</td>\n",
       "      <td>FO</td>\n",
       "      <td>ESCKX</td>\n",
       "      <td>Small Growth</td>\n",
       "      <td>USD</td>\n",
       "    </tr>\n",
       "    <tr>\n",
       "      <th>...</th>\n",
       "      <td>...</td>\n",
       "      <td>...</td>\n",
       "      <td>...</td>\n",
       "      <td>...</td>\n",
       "      <td>...</td>\n",
       "      <td>...</td>\n",
       "      <td>...</td>\n",
       "    </tr>\n",
       "    <tr>\n",
       "      <th>21970</th>\n",
       "      <td>Wilshire Small Company Growth Invmt</td>\n",
       "      <td>US9718973012</td>\n",
       "      <td>FOUSA00C77</td>\n",
       "      <td>FO</td>\n",
       "      <td>DTSGX</td>\n",
       "      <td>Small Growth</td>\n",
       "      <td>USD</td>\n",
       "    </tr>\n",
       "    <tr>\n",
       "      <th>22014</th>\n",
       "      <td>Zevenbergen Genea Institutional</td>\n",
       "      <td>US00777X8763</td>\n",
       "      <td>F00000VX78</td>\n",
       "      <td>FO</td>\n",
       "      <td>ZVGIX</td>\n",
       "      <td>Large Growth</td>\n",
       "      <td>USD</td>\n",
       "    </tr>\n",
       "    <tr>\n",
       "      <th>22015</th>\n",
       "      <td>Zevenbergen Genea Investor</td>\n",
       "      <td>US00777X8847</td>\n",
       "      <td>F00000VX77</td>\n",
       "      <td>FO</td>\n",
       "      <td>ZVGNX</td>\n",
       "      <td>Large Growth</td>\n",
       "      <td>USD</td>\n",
       "    </tr>\n",
       "    <tr>\n",
       "      <th>22016</th>\n",
       "      <td>Zevenbergen Growth Institutional</td>\n",
       "      <td>US00777X8011</td>\n",
       "      <td>F00000VX76</td>\n",
       "      <td>FO</td>\n",
       "      <td>ZVNIX</td>\n",
       "      <td>Large Growth</td>\n",
       "      <td>USD</td>\n",
       "    </tr>\n",
       "    <tr>\n",
       "      <th>22017</th>\n",
       "      <td>Zevenbergen Growth Investor</td>\n",
       "      <td>US00777X7021</td>\n",
       "      <td>F00000VX75</td>\n",
       "      <td>FO</td>\n",
       "      <td>ZVNBX</td>\n",
       "      <td>Large Growth</td>\n",
       "      <td>USD</td>\n",
       "    </tr>\n",
       "  </tbody>\n",
       "</table>\n",
       "<p>3346 rows × 7 columns</p>\n",
       "</div>"
      ],
      "text/plain": [
       "                                       Name          ISIN fundShareClassId  \\\n",
       "0      1290 Avantis U.S. Large Cap Growth A  US68259P6209       F00000WK3T   \n",
       "1      1290 Avantis U.S. Large Cap Growth I  US68259P5961       F00000WK3V   \n",
       "5             1290 Essex Small Cap Growth A  US68246Y5024       F00001DS5W   \n",
       "6             1290 Essex Small Cap Growth I  US68246Y7004       F00001DS5U   \n",
       "7             1290 Essex Small Cap Growth R  US68246Y8093       F00001DS5V   \n",
       "...                                     ...           ...              ...   \n",
       "21970   Wilshire Small Company Growth Invmt  US9718973012       FOUSA00C77   \n",
       "22014       Zevenbergen Genea Institutional  US00777X8763       F00000VX78   \n",
       "22015            Zevenbergen Genea Investor  US00777X8847       F00000VX77   \n",
       "22016      Zevenbergen Growth Institutional  US00777X8011       F00000VX76   \n",
       "22017           Zevenbergen Growth Investor  US00777X7021       F00000VX75   \n",
       "\n",
       "      investmentType Ticker  CategoryName currency  \n",
       "0                 FO  TNRAX  Large Growth      USD  \n",
       "1                 FO  TNXIX  Large Growth      USD  \n",
       "5                 FO  ESCFX  Small Growth      USD  \n",
       "6                 FO  ESCJX  Small Growth      USD  \n",
       "7                 FO  ESCKX  Small Growth      USD  \n",
       "...              ...    ...           ...      ...  \n",
       "21970             FO  DTSGX  Small Growth      USD  \n",
       "22014             FO  ZVGIX  Large Growth      USD  \n",
       "22015             FO  ZVGNX  Large Growth      USD  \n",
       "22016             FO  ZVNIX  Large Growth      USD  \n",
       "22017             FO  ZVNBX  Large Growth      USD  \n",
       "\n",
       "[3346 rows x 7 columns]"
      ]
     },
     "execution_count": 60,
     "metadata": {},
     "output_type": "execute_result"
    }
   ],
   "source": [
    "cat_list = ['Large Growth', 'Small Growth', 'High Yield Bond','Mid-Cap Growth','Intermediate Core Bond','Global Large-Stock Growth',\n",
    "            'Diversified Pacific/Asia']\n",
    "\n",
    "mask = fund_df.CategoryName.isin(cat_list)\n",
    "target_df = fund_df[mask]\n",
    "target_df"
   ]
  },
  {
   "cell_type": "code",
   "execution_count": 61,
   "id": "81f6c153-5a67-414f-b341-9f35e0b41501",
   "metadata": {},
   "outputs": [
    {
     "name": "stdout",
     "output_type": "stream",
     "text": [
      "possible keys for the parameter filters of the method seach_funds can be : AdministratorCompanyId, AnalystRatingScale, BondStyleBox, BrandingCompanyId, CategoryId, CollectedSRRI, distribution, EquityStyleBox, ExpertiseInformed, FeeLevel, FundTNAV, GBRReturnM0, GBRReturnM12, GBRReturnM120, GBRReturnM36, GBRReturnM60, GlobalAssetClassId, GlobalCategoryId, IMASectorID, IndexFund, InvestorTypeProfessional, LargestRegion, LargestSector, OngoingCharge, QuantitativeRating, ReturnProfilePreservation, ShareClassTypeId, starRating, SustainabilityRank, UmbrellaCompanyId, Yield_M12\n",
      "['AdministratorCompanyId', 'AnalystRatingScale', 'BondStyleBox', 'BrandingCompanyId', 'CategoryId', 'CollectedSRRI', 'distribution', 'EquityStyleBox', 'ExpertiseInformed', 'FeeLevel', 'FundTNAV', 'GBRReturnM0', 'GBRReturnM12', 'GBRReturnM120', 'GBRReturnM36', 'GBRReturnM60', 'GlobalAssetClassId', 'GlobalCategoryId', 'IMASectorID', 'IndexFund', 'InvestorTypeProfessional', 'LargestRegion', 'LargestSector', 'OngoingCharge', 'QuantitativeRating', 'ReturnProfilePreservation', 'ShareClassTypeId', 'starRating', 'SustainabilityRank', 'UmbrellaCompanyId', 'Yield_M12']\n"
     ]
    }
   ],
   "source": [
    "from mstarpy import search_filter\n",
    "\n",
    "filter_fund = search_filter(pattern = '', asset_type ='fund')\n",
    "\n",
    "print(filter_fund)"
   ]
  },
  {
   "cell_type": "code",
   "execution_count": 33,
   "id": "ac257c37-d0ae-4539-af45-49d33b611829",
   "metadata": {},
   "outputs": [
    {
     "name": "stdout",
     "output_type": "stream",
     "text": [
      "18958       State Street Aggregate Bond Index A\n",
      "18959       State Street Aggregate Bond Index I\n",
      "18960       State Street Aggregate Bond Index K\n",
      "18961           State Street Aggregate Bond Idx\n",
      "18962             State Street Balanced Index K\n",
      "                          ...                  \n",
      "19019    State Street Target Retirement 2065 R3\n",
      "19020          State Street Target Retirement I\n",
      "19021          State Street Target Retirement K\n",
      "19022         State Street Target Retirement R3\n",
      "19023          State Street US Core Equity Fund\n",
      "Name: Name, Length: 66, dtype: object\n"
     ]
    }
   ],
   "source": [
    "target = fund_df[fund_df.Name.str.contains('State Street')]\n",
    "print(target.Name)"
   ]
  },
  {
   "cell_type": "code",
   "execution_count": 39,
   "id": "d5d39765-dd61-43f6-bd4f-819cf8a6b982",
   "metadata": {},
   "outputs": [
    {
     "name": "stdout",
     "output_type": "stream",
     "text": [
      "Hood River Small-Cap Growth Fund Retirement Shares\n"
     ]
    }
   ],
   "source": [
    "fund = mstarpy.Funds(term=\"US56170L5057\", country=\"us\")\n"
   ]
  },
  {
   "cell_type": "code",
   "execution_count": 47,
   "id": "b6f3fca8-667f-487b-8faa-8311d2fd1e17",
   "metadata": {},
   "outputs": [
    {
     "name": "stdout",
     "output_type": "stream",
     "text": [
      "Hood River Small-Cap Growth Fund Retirement Shares\n",
      "fund\n",
      "us\n",
      "\n"
     ]
    }
   ],
   "source": [
    "print(fund.name)\n",
    "print(fund.asset_type)\n",
    "print(fund.country)\n",
    "print(fund.exchange)\n",
    "print(fund.exchange)"
   ]
  },
  {
   "cell_type": "code",
   "execution_count": 48,
   "id": "496d0402-10de-44b3-951d-da553eed312a",
   "metadata": {
    "scrolled": true
   },
   "outputs": [
    {
     "name": "stdout",
     "output_type": "stream",
     "text": [
      "              securityName       secId performanceId holdingTypeId  weighting  \\\n",
      "0        FTAI Aviation Ltd  0P00015YJ3    0P00015YJ3             E    6.60119   \n",
      "1               MasTec Inc  0P000003H6    0P000003H6             E    2.56166   \n",
      "2               Rambus Inc  0P000004LE    0P000004LE             E    2.53332   \n",
      "3        Clean Harbors Inc  0P000001B2    0P000001B2             E    2.20279   \n",
      "4  Comfort Systems USA Inc  0P000001DF    0P000001DF             E    2.19430   \n",
      "\n",
      "   numberOfShare  marketValue  shareChange        country ticker  ...  \\\n",
      "0      1686349.0  174081807.0      55224.0  United States   FTAI  ...   \n",
      "1       631407.0   67554235.0     276507.0  United States    MTZ  ...   \n",
      "2      1136944.0   66806829.0     145185.0  United States   RMBS  ...   \n",
      "3       256867.0   58090472.0      27100.0  United States    CLH  ...   \n",
      "4       190275.0   57866433.0     -46595.0  United States    FIX  ...   \n",
      "\n",
      "   susEsgRiskGlobes              esgAsOfDate susEsgRiskCategory qualRating  \\\n",
      "0               2.0  2024-08-07T05:00:00.000               High       None   \n",
      "1               2.0  2024-08-07T05:00:00.000               High          3   \n",
      "2               4.0  2024-08-07T05:00:00.000                Low       None   \n",
      "3               3.0  2024-08-07T05:00:00.000             Medium          3   \n",
      "4               2.0  2024-08-07T05:00:00.000               High          3   \n",
      "\n",
      "  quantRating bestRatingType securityType domicileCountryId currencyName  \\\n",
      "0           2           Quan           ST               CYM    US Dollar   \n",
      "1           3           Qual           ST               USA    US Dollar   \n",
      "2           3           Quan           ST               USA    US Dollar   \n",
      "3           2           Quan           ST               USA    US Dollar   \n",
      "4           2           Quan           ST               USA    US Dollar   \n",
      "\n",
      "  originalMarketValue  \n",
      "0         174081807.0  \n",
      "1          67554235.0  \n",
      "2          66806829.0  \n",
      "3          58090472.0  \n",
      "4          57866433.0  \n",
      "\n",
      "[5 rows x 54 columns]\n"
     ]
    }
   ],
   "source": [
    "df_equity_holdings = fund.holdings(holdingType=\"equity\")\n",
    "print(df_equity_holdings.head())"
   ]
  },
  {
   "cell_type": "code",
   "execution_count": 49,
   "id": "675397ce-b6c7-4c16-96f9-51c6efad48e1",
   "metadata": {},
   "outputs": [
    {
     "name": "stdout",
     "output_type": "stream",
     "text": [
      "     nav  totalReturn        date\n",
      "0  46.99     67.18803  2022-12-30\n",
      "1  46.52     66.51601  2023-01-03\n",
      "2  46.87     67.01645  2023-01-04\n",
      "3  46.27     66.15855  2023-01-05\n",
      "4  47.50     67.91725  2023-01-06\n"
     ]
    }
   ],
   "source": [
    "import datetime\n",
    "import pandas as pd\n",
    "start_date = datetime.datetime(2023,1,1)\n",
    "end_date = datetime.datetime(2024,9,12)\n",
    "#get historical data\n",
    "history = fund.nav(start_date=start_date,end_date=end_date, frequency=\"daily\")\n",
    "#convert it in pandas DataFrame\n",
    "df_history = pd.DataFrame(history)\n",
    "\n"
   ]
  },
  {
   "cell_type": "code",
   "execution_count": 50,
   "id": "41268b27-9a9c-4784-bfa5-d6cdbf5be5d8",
   "metadata": {},
   "outputs": [
    {
     "name": "stdout",
     "output_type": "stream",
     "text": [
      "     nav  totalReturn        date\n",
      "0  46.99     67.18803  2022-12-30\n",
      "1  46.52     66.51601  2023-01-03\n",
      "2  46.87     67.01645  2023-01-04\n",
      "3  46.27     66.15855  2023-01-05\n",
      "4  47.50     67.91725  2023-01-06\n",
      "       nav  totalReturn        date\n",
      "422  67.48     96.48539  2024-09-06\n",
      "423  68.67     98.18689  2024-09-09\n",
      "424  68.59     98.07250  2024-09-10\n",
      "425  69.67     99.61673  2024-09-11\n",
      "426  70.86    101.31823  2024-09-12\n"
     ]
    }
   ],
   "source": [
    "print(df_history.head())\n",
    "print(df_history.tail())"
   ]
  },
  {
   "cell_type": "code",
   "execution_count": 54,
   "id": "ebc59e0e-efd9-4a28-b3d8-39def1f12502",
   "metadata": {},
   "outputs": [
    {
     "name": "stdout",
     "output_type": "stream",
     "text": [
      "Series([], Name: Name, dtype: object)\n"
     ]
    }
   ],
   "source": [
    "target = fund_df[fund_df.Name.str.contains('All-Cap Equity')]\n",
    "print(target.Name)"
   ]
  },
  {
   "cell_type": "code",
   "execution_count": null,
   "id": "87d6b9ab-6d5b-44ef-ba41-b6a4bc94dd6a",
   "metadata": {},
   "outputs": [],
   "source": []
  }
 ],
 "metadata": {
  "kernelspec": {
   "display_name": "Python 3 (ipykernel)",
   "language": "python",
   "name": "python3"
  },
  "language_info": {
   "codemirror_mode": {
    "name": "ipython",
    "version": 3
   },
   "file_extension": ".py",
   "mimetype": "text/x-python",
   "name": "python",
   "nbconvert_exporter": "python",
   "pygments_lexer": "ipython3",
   "version": "3.10.14"
  }
 },
 "nbformat": 4,
 "nbformat_minor": 5
}
