{
 "cells": [
  {
   "cell_type": "code",
   "execution_count": null,
   "id": "5b7c0297-8916-4e3e-b863-024f68650bbb",
   "metadata": {},
   "outputs": [],
   "source": [
    "import investpy\n",
    "import mstarpy\n",
    "import pandas as pd\n",
    "import yfinance as yf"
   ]
  },
  {
   "cell_type": "code",
   "execution_count": null,
   "id": "53870aff-754c-4895-af61-0b82b2cd26d6",
   "metadata": {},
   "outputs": [],
   "source": [
    "countries = investpy.funds.get_fund_countries()\n",
    "\n",
    "print(countries)"
   ]
  },
  {
   "cell_type": "code",
   "execution_count": null,
   "id": "108dac0d-2bfd-46ad-a836-7238b3cf8bdd",
   "metadata": {},
   "outputs": [],
   "source": [
    "def inv_funds():\n",
    "    # fund_dict = investpy.funds.get_funds_dict(country='united states')\n",
    "    df = investpy.funds.get_funds(country='united states')\n",
    "    return df\n",
    "\n",
    "def us_funds(pageSize=100):\n",
    "    # Define the search criteria\n",
    "    term = \"\"  # You can specify a term to filter funds, or leave it empty to get all funds\n",
    "    country = \"us\"  # Specify the country    \n",
    "    # Retrieve the list of funds\n",
    "    fields = [\"Name\", \"fundShareClassId\", \"ISIN\", \"GBRReturnM12\",]\n",
    "    fields = [\"Name\", \"ISIN\", \"fundShareClassId\", \"Ticker\", \"CategoryName\", \"fundSize\",\"currency\",]\n",
    "    filters = {\"fundSize\": (\">\", '1000000')}\n",
    "                                                      \n",
    "    response = mstarpy.search_funds(term=term, field=fields, country=country, pageSize=pageSize)\n",
    "    # \"investmentType\",\n",
    "    # Convert the response to a pandas DataFrame\n",
    "    df = pd.DataFrame(response)\n",
    "    # df['fundSize'] = df['fundSize'].astype(float)\n",
    "    return df\n"
   ]
  },
  {
   "cell_type": "code",
   "execution_count": null,
   "id": "b1d4a17d-55da-402a-a8b0-b2344d669dbc",
   "metadata": {},
   "outputs": [],
   "source": [
    "def get_mutual_fund_info(tickers):\n",
    "    data = []\n",
    "    for ticker in tickers:\n",
    "        mf = yf.Ticker(ticker)\n",
    "        mf_info = mf.info\n",
    "        data.append(mf_info)\n",
    "    return pd.DataFrame(data)"
   ]
  },
  {
   "cell_type": "markdown",
   "id": "0896960d-7e13-4e3d-9cc0-d0520c74b207",
   "metadata": {},
   "source": [
    "# Use the input ticker list file to download mutual fund detail data from yfinance"
   ]
  },
  {
   "cell_type": "code",
   "execution_count": null,
   "id": "75a51581-8e9e-40b9-a929-905f7a015be2",
   "metadata": {},
   "outputs": [],
   "source": [
    "# this file is generated from https://www.zacks.com/screening/mutual-fund-screener with net asset >= 100M\n",
    "list_name = 'MF_list_100M'\n",
    "ticker_file = f\"{list_name}.csv\"     \n",
    "print('ticker file name: ', ticker_file)"
   ]
  },
  {
   "cell_type": "code",
   "execution_count": null,
   "id": "a3fc0e18-71dd-42c3-8e4d-fdd30c713705",
   "metadata": {
    "scrolled": true
   },
   "outputs": [],
   "source": [
    "mf_list = pd.read_csv(ticker_file)\n",
    "tickers = list(mf_list['Ticker'].values)\n",
    "print(tickers)"
   ]
  },
  {
   "cell_type": "code",
   "execution_count": null,
   "id": "0949fecc-b433-4fd4-bf61-54a4b2748f3c",
   "metadata": {},
   "outputs": [],
   "source": [
    "len(tickers)"
   ]
  },
  {
   "cell_type": "code",
   "execution_count": null,
   "id": "25639dc8-8c2b-479e-9b74-3af5213f1f43",
   "metadata": {},
   "outputs": [],
   "source": [
    "# Get information for the defined mutual funds\n",
    "mutual_fund_info = get_mutual_fund_info(tickers)\n",
    "\n",
    "\n",
    "# Save the information to a CSV file\n",
    "mutual_fund_info.to_csv(f\"{list_name}_info.csv\", index=False)"
   ]
  },
  {
   "cell_type": "code",
   "execution_count": null,
   "id": "129c06dc-fa03-4ddd-a0fa-eebf7a8798cb",
   "metadata": {},
   "outputs": [],
   "source": [
    "mutual_fund_info.columns"
   ]
  },
  {
   "cell_type": "code",
   "execution_count": null,
   "id": "ef02c548-89d1-4830-978a-f7129ca1438d",
   "metadata": {},
   "outputs": [],
   "source": [
    "viewl = ['quoteType','shortName','annualHoldingsTurnover', 'exchange', 'quoteType', 'symbol','uuid', 'messageBoardId',]\n",
    "mutual_fund_info[viewl].head()"
   ]
  },
  {
   "cell_type": "code",
   "execution_count": null,
   "id": "285a4c63-d031-4bf3-91af-248301bfc527",
   "metadata": {},
   "outputs": [],
   "source": [
    "data = yf.download(tickers, start=\"2010-01-01\", end=\"2024-09-13\")\n"
   ]
  },
  {
   "cell_type": "code",
   "execution_count": null,
   "id": "1663c5b1-83c0-4342-b1ce-444ea3a493f9",
   "metadata": {},
   "outputs": [],
   "source": [
    "data.to_csv(\"mutual_fund_data.csv\", index=False)"
   ]
  },
  {
   "cell_type": "code",
   "execution_count": null,
   "id": "d619e508-975f-4917-8f6d-11694ae2af46",
   "metadata": {},
   "outputs": [],
   "source": [
    "closep = data['Close']\n",
    "closep.to_csv(\"mutual_fund_close.csv\", index=False)"
   ]
  },
  {
   "cell_type": "code",
   "execution_count": null,
   "id": "926f34c8-462a-4e4f-ae25-84458411b847",
   "metadata": {
    "scrolled": true
   },
   "outputs": [],
   "source": [
    "idx_list = pd.read_csv(\"Index.csv\")"
   ]
  },
  {
   "cell_type": "code",
   "execution_count": null,
   "id": "f1e652f8-f783-40d3-bdc7-5b9abf09ebea",
   "metadata": {},
   "outputs": [],
   "source": [
    "i_symbols = list(idx_list.Ticker)\n",
    "i_data = yf.download(i_symbols, start=\"2010-01-01\", end=\"2024-09-13\")"
   ]
  },
  {
   "cell_type": "code",
   "execution_count": null,
   "id": "81f6c153-5a67-414f-b341-9f35e0b41501",
   "metadata": {},
   "outputs": [],
   "source": [
    "i_closep = i_data['Close']"
   ]
  },
  {
   "cell_type": "code",
   "execution_count": null,
   "id": "ac257c37-d0ae-4539-af45-49d33b611829",
   "metadata": {},
   "outputs": [],
   "source": [
    "i_closep.to_csv(\"Index_close.csv\", index=False)"
   ]
  },
  {
   "cell_type": "code",
   "execution_count": null,
   "id": "c1f4b989-7c66-4dc4-88e4-8d65d8385298",
   "metadata": {},
   "outputs": [],
   "source": [
    "full_tickers = tickers + list(idx_list.Ticker)\n",
    "full_data = yf.download(tickers, start=\"2010-01-01\", end=\"2024-09-13\")"
   ]
  },
  {
   "cell_type": "code",
   "execution_count": null,
   "id": "b6f3fca8-667f-487b-8faa-8311d2fd1e17",
   "metadata": {},
   "outputs": [],
   "source": [
    "full_data['Close'].to_csv(\"full_data.csv\", index=False)"
   ]
  },
  {
   "cell_type": "code",
   "execution_count": null,
   "id": "496d0402-10de-44b3-951d-da553eed312a",
   "metadata": {
    "scrolled": true
   },
   "outputs": [],
   "source": [
    "full_data = full_data['Close'].reset_index()"
   ]
  },
  {
   "cell_type": "code",
   "execution_count": null,
   "id": "3251ca8f-2879-4599-87e5-479eb6fbf2f7",
   "metadata": {},
   "outputs": [],
   "source": [
    "full_data['Date'] = full_data.Date.dt.date"
   ]
  },
  {
   "cell_type": "code",
   "execution_count": null,
   "id": "675397ce-b6c7-4c16-96f9-51c6efad48e1",
   "metadata": {},
   "outputs": [],
   "source": [
    "full_data.to_csv(\"full_data.csv\", index=False)"
   ]
  },
  {
   "cell_type": "code",
   "execution_count": null,
   "id": "41268b27-9a9c-4784-bfa5-d6cdbf5be5d8",
   "metadata": {},
   "outputs": [],
   "source": [
    "full_data"
   ]
  },
  {
   "cell_type": "code",
   "execution_count": null,
   "id": "87d6b9ab-6d5b-44ef-ba41-b6a4bc94dd6a",
   "metadata": {},
   "outputs": [],
   "source": []
  }
 ],
 "metadata": {
  "kernelspec": {
   "display_name": "Python 3 (ipykernel)",
   "language": "python",
   "name": "python3"
  },
  "language_info": {
   "codemirror_mode": {
    "name": "ipython",
    "version": 3
   },
   "file_extension": ".py",
   "mimetype": "text/x-python",
   "name": "python",
   "nbconvert_exporter": "python",
   "pygments_lexer": "ipython3",
   "version": "3.8.20"
  }
 },
 "nbformat": 4,
 "nbformat_minor": 5
}
