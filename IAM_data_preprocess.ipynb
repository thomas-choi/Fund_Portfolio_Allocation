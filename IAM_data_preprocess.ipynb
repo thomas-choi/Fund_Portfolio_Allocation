{
 "cells": [
  {
   "cell_type": "code",
   "execution_count": null,
   "id": "2b2b263b-095a-4aa0-9407-22c605095f2d",
   "metadata": {},
   "outputs": [],
   "source": [
    "import pandas as pd\n",
    "import datetime\n",
    "import yfinance as yf\n",
    "import backtrader as bt\n",
    "import numpy as np\n",
    "import warnings"
   ]
  },
  {
   "cell_type": "code",
   "execution_count": null,
   "id": "6b0fbd47-a6be-42ac-97e7-f0a626dbf906",
   "metadata": {},
   "outputs": [],
   "source": [
    "from Data_Preprocess import IAM_data_setup, download_IAM, SelectIndex, generate_interval\n",
    "from Data_Preprocess import calculate_returns, calculate_date_range"
   ]
  },
  {
   "cell_type": "code",
   "execution_count": null,
   "id": "9b0abfe6-914a-4915-9905-2b66923ba1bc",
   "metadata": {},
   "outputs": [],
   "source": [
    "assets, asset_classes = IAM_data_setup()"
   ]
  },
  {
   "cell_type": "code",
   "execution_count": null,
   "id": "726b97f9-4827-4679-aebc-602c481a5eb0",
   "metadata": {},
   "outputs": [],
   "source": [
    "display(asset_classes['Sector'].unique())\n",
    "display(asset_classes['Class'].unique())"
   ]
  },
  {
   "cell_type": "code",
   "execution_count": null,
   "id": "10d6edd2-72fb-47b0-9353-22103aef719d",
   "metadata": {},
   "outputs": [],
   "source": [
    "print(assets)"
   ]
  },
  {
   "cell_type": "code",
   "execution_count": null,
   "id": "c8347fd2-fcd9-48c1-b37c-1ba93844de3a",
   "metadata": {},
   "outputs": [],
   "source": [
    "display(asset_classes.shape)\n",
    "display(asset_classes.T)"
   ]
  },
  {
   "cell_type": "code",
   "execution_count": null,
   "id": "d212dcd7-fcf8-4574-90a6-1ca2026b88d3",
   "metadata": {},
   "outputs": [],
   "source": [
    "asset_classes[asset_classes['Assets'] == '0P0001Q45W.HK']"
   ]
  },
  {
   "cell_type": "code",
   "execution_count": null,
   "id": "da3ce055-6a23-4bdc-ac3d-202a5b4470d1",
   "metadata": {},
   "outputs": [],
   "source": [
    "# Download and generate full data file from yfinance\n",
    "# Date range\n",
    "start = '2000-01-01'\n",
    "end = '2024-09-30'\n",
    "\n",
    "df = yf.download(assets, start=start, end=end)"
   ]
  },
  {
   "cell_type": "code",
   "execution_count": null,
   "id": "ed5082e5-8dd0-45eb-948c-b6a5cb66ed3c",
   "metadata": {},
   "outputs": [],
   "source": [
    "df.to_csv(\"IAM_full_data.txt\")"
   ]
  },
  {
   "cell_type": "code",
   "execution_count": null,
   "id": "a875a7c0-0ed3-43db-a75c-d5f6d516cc56",
   "metadata": {},
   "outputs": [],
   "source": [
    "# Downloading data\n",
    "data = download_IAM()\n",
    "start = data.index[0]\n",
    "end = data.index[-1]\n",
    "print(start, \" , \", end)\n",
    "display(data.shape)\n",
    "display(data.head())\n",
    "display(data.tail())"
   ]
  },
  {
   "cell_type": "code",
   "execution_count": null,
   "id": "040c09f2-c9bd-4f90-8b13-4a86431d1bfa",
   "metadata": {},
   "outputs": [],
   "source": [
    "#  all test is from the 1004th day and finish at the last testdata day.\n",
    "#\n",
    "start_test = 1004\n",
    "end_test = data.shape[0] - 1\n",
    "test_size = 1000\n",
    "print(f\" Testing data from {start_test} to {end_test}\")"
   ]
  },
  {
   "cell_type": "code",
   "execution_count": null,
   "id": "c5536582-871d-4b23-8eaa-b326f7e45be9",
   "metadata": {},
   "outputs": [],
   "source": [
    "rebalance_index = {}\n",
    "rebalance_index[\"M\"] = SelectIndex(data, mode=\"M\", start_index=start_test)\n",
    "rebalance_index[\"Q\"] = SelectIndex(data, mode=\"Q\", start_index=start_test)\n",
    "rebalance_index[\"S\"] = SelectIndex(data, mode=\"S\", start_index=start_test)\n",
    "print(rebalance_index)"
   ]
  },
  {
   "cell_type": "code",
   "execution_count": null,
   "id": "2d67ad51-746e-4eb9-afe7-cde8148fcbe7",
   "metadata": {},
   "outputs": [],
   "source": [
    "r_index={}\n",
    "r_index[\"M\"] = generate_interval(data, rebalance_index[\"M\"], \"rebalance_index_M.csv\")\n",
    "r_index[\"Q\"] = generate_interval(data, rebalance_index[\"Q\"], \"rebalance_index_Q.csv\")\n",
    "r_index[\"S\"] = generate_interval(data, rebalance_index[\"S\"], \"rebalance_index_S.csv\")\n",
    "r_index[\"S\"]"
   ]
  },
  {
   "cell_type": "code",
   "execution_count": null,
   "id": "94d8497d-5fc9-4c62-a063-f3da846b0eb8",
   "metadata": {},
   "outputs": [],
   "source": [
    "returns = calculate_returns(data)\n",
    "display(returns)\n",
    "returns.to_csv(\"IAM_Returns.txt\")"
   ]
  },
  {
   "cell_type": "code",
   "execution_count": null,
   "id": "0644920f-a7aa-4d64-be4e-f567d8032a96",
   "metadata": {},
   "outputs": [],
   "source": [
    "df = calculate_date_range(data, returns.columns.to_list())\n",
    "display(df)\n"
   ]
  },
  {
   "cell_type": "code",
   "execution_count": null,
   "id": "6df6f28f-2f6a-4e2c-b296-7ee6bf477710",
   "metadata": {},
   "outputs": [],
   "source": [
    "print(returns.shape)\n",
    "print(data.shape)"
   ]
  },
  {
   "cell_type": "code",
   "execution_count": null,
   "id": "0b4de58d-3508-4cf8-bb28-7d566e1a6bfa",
   "metadata": {},
   "outputs": [],
   "source": []
  }
 ],
 "metadata": {
  "kernelspec": {
   "display_name": "Python 3 (ipykernel)",
   "language": "python",
   "name": "python3"
  },
  "language_info": {
   "codemirror_mode": {
    "name": "ipython",
    "version": 3
   },
   "file_extension": ".py",
   "mimetype": "text/x-python",
   "name": "python",
   "nbconvert_exporter": "python",
   "pygments_lexer": "ipython3",
   "version": "3.11.3"
  }
 },
 "nbformat": 4,
 "nbformat_minor": 5
}
