{
 "cells": [
  {
   "cell_type": "code",
   "execution_count": 1,
   "id": "b18bc817-83fc-4168-bf16-2fee3cb768bc",
   "metadata": {},
   "outputs": [
    {
     "name": "stdout",
     "output_type": "stream",
     "text": [
      "['/usr/local/lib/python311.zip', '/usr/local/lib/python3.11', '/usr/local/lib/python3.11/lib-dynload', '', '/home/thomas/projects/Fund_Portfolio_Allocation/venv-p3_11b/lib/python3.11/site-packages']\n"
     ]
    }
   ],
   "source": [
    "from pathlib import Path\n",
    "import sys\n",
    "print(sys.path)\n",
    "\n",
    "\n",
    "# print(__file__)\n"
   ]
  },
  {
   "cell_type": "code",
   "execution_count": 2,
   "id": "abe273ed-b331-4905-8667-e9157b551f22",
   "metadata": {},
   "outputs": [],
   "source": [
    "def custom_process_data(data):\n",
    "    # Example processing function\n",
    "    df = pd.DataFrame(data)\n",
    "    result = df.describe().to_dict()\n",
    "    return result\n"
   ]
  },
  {
   "cell_type": "code",
   "execution_count": 3,
   "id": "18331993-b40e-4851-9230-a01bf3c8dadd",
   "metadata": {},
   "outputs": [
    {
     "name": "stdout",
     "output_type": "stream",
     "text": [
      "num_cpus is 18\n",
      "split_data: chunk_size:3\n",
      "data_chunks:\n",
      " [[{'A': 1, 'B': 4}, {'A': 2, 'B': 5}, {'A': 3, 'B': 6}], [{'A': 7, 'B': 10}, {'A': 8, 'B': 11}, {'A': 9, 'B': 12}], [{'A': 13, 'B': 16}, {'A': 14, 'B': 17}, {'A': 15, 'B': 18}], [{'A': 12, 'B': 4}, {'A': 22, 'B': 5}, {'A': 23, 'B': 6}], [{'A': 27, 'B': 10}, {'A': 28, 'B': 11}, {'A': 29, 'B': 12}], [{'A': 213, 'B': 16}, {'A': 214, 'B': 17}, {'A': 215, 'B': 18}], [{'A': 31, 'B': 4}, {'A': 32, 'B': 5}, {'A': 33, 'B': 6}], [{'A': 37, 'B': 10}, {'A': 38, 'B': 11}, {'A': 39, 'B': 12}], [{'A': 313, 'B': 16}, {'A': 314, 'B': 17}, {'A': 315, 'B': 18}], [{'A': 41, 'B': 4}, {'A': 42, 'B': 5}, {'A': 43, 'B': 6}], [{'A': 47, 'B': 10}, {'A': 48, 'B': 11}, {'A': 49, 'B': 12}], [{'A': 413, 'B': 16}, {'A': 414, 'B': 17}, {'A': 415, 'B': 18}], [{'A': 51, 'B': 4}, {'A': 52, 'B': 5}, {'A': 53, 'B': 6}], [{'A': 57, 'B': 10}, {'A': 58, 'B': 11}, {'A': 59, 'B': 12}], [{'A': 513, 'B': 16}, {'A': 514, 'B': 17}, {'A': 515, 'B': 18}], [{'A': 61, 'B': 4}, {'A': 62, 'B': 5}, {'A': 63, 'B': 6}], [{'A': 67, 'B': 10}, {'A': 68, 'B': 11}, {'A': 69, 'B': 12}], [{'A': 713, 'B': 16}, {'A': 714, 'B': 17}, {'A': 715, 'B': 18}]]\n",
      "work: ==>([{'A': 1, 'B': 4}, {'A': 2, 'B': 5}, {'A': 3, 'B': 6}], <function custom_process_data at 0x7fbf08ec2520>)<==\n",
      "work: ==>([{'A': 12, 'B': 4}, {'A': 22, 'B': 5}, {'A': 23, 'B': 6}], <function custom_process_data at 0x7fbf08ec2520>)<==\n",
      "work: ==>([{'A': 13, 'B': 16}, {'A': 14, 'B': 17}, {'A': 15, 'B': 18}], <function custom_process_data at 0x7fbf08ec2520>)<==\n",
      "work: ==>([{'A': 213, 'B': 16}, {'A': 214, 'B': 17}, {'A': 215, 'B': 18}], <function custom_process_data at 0x7fbf08ec2520>)<==\n",
      "work: ==>([{'A': 31, 'B': 4}, {'A': 32, 'B': 5}, {'A': 33, 'B': 6}], <function custom_process_data at 0x7fbf08ec2520>)<==\n",
      "work: ==>([{'A': 37, 'B': 10}, {'A': 38, 'B': 11}, {'A': 39, 'B': 12}], <function custom_process_data at 0x7fbf08ec2520>)<==\n",
      "\n",
      "work: ==>([{'A': 27, 'B': 10}, {'A': 28, 'B': 11}, {'A': 29, 'B': 12}], <function custom_process_data at 0x7fbf08ec2520>)<==\n",
      "work: ==>([{'A': 41, 'B': 4}, {'A': 42, 'B': 5}, {'A': 43, 'B': 6}], <function custom_process_data at 0x7fbf08ec2520>)<==\n",
      "work: ==>([{'A': 7, 'B': 10}, {'A': 8, 'B': 11}, {'A': 9, 'B': 12}], <function custom_process_data at 0x7fbf08ec2520>)<==\n",
      "work: ==>([{'A': 313, 'B': 16}, {'A': 314, 'B': 17}, {'A': 315, 'B': 18}], <function custom_process_data at 0x7fbf08ec2520>)<==\n",
      "\n",
      "work: ==>([{'A': 47, 'B': 10}, {'A': 48, 'B': 11}, {'A': 49, 'B': 12}], <function custom_process_data at 0x7fbf08ec2520>)<==\n",
      "\n",
      "work: ==>([{'A': 57, 'B': 10}, {'A': 58, 'B': 11}, {'A': 59, 'B': 12}], <function custom_process_data at 0x7fbf08ec2520>)<==\n",
      "work: ==>([{'A': 513, 'B': 16}, {'A': 514, 'B': 17}, {'A': 515, 'B': 18}], <function custom_process_data at 0x7fbf08ec2520>)<==\n",
      "work: ==>([{'A': 413, 'B': 16}, {'A': 414, 'B': 17}, {'A': 415, 'B': 18}], <function custom_process_data at 0x7fbf08ec2520>)<==\n",
      "\n",
      "work: ==>([{'A': 61, 'B': 4}, {'A': 62, 'B': 5}, {'A': 63, 'B': 6}], <function custom_process_data at 0x7fbf08ec2520>)<==\n",
      "work: ==>([{'A': 67, 'B': 10}, {'A': 68, 'B': 11}, {'A': 69, 'B': 12}], <function custom_process_data at 0x7fbf08ec2520>)<==\n",
      "\n",
      "work: ==>([{'A': 713, 'B': 16}, {'A': 714, 'B': 17}, {'A': 715, 'B': 18}], <function custom_process_data at 0x7fbf08ec2520>)<==\n",
      "\n",
      "\n",
      "\n",
      "\n",
      "\n",
      "\n",
      "\n",
      "\n",
      "\n",
      "work: ==>([{'A': 51, 'B': 4}, {'A': 52, 'B': 5}, {'A': 53, 'B': 6}], <function custom_process_data at 0x7fbf08ec2520>)<==\n",
      "\n",
      "\n",
      "\n",
      "\n",
      "{'A': {'count': 3.0, 'mean': 2.0, 'std': 1.0, 'min': 1.0, '25%': 1.5, '50%': 2.0, '75%': 2.5, 'max': 3.0}, 'B': {'count': 3.0, 'mean': 5.0, 'std': 1.0, 'min': 4.0, '25%': 4.5, '50%': 5.0, '75%': 5.5, 'max': 6.0}}\n",
      "{'A': {'count': 3.0, 'mean': 8.0, 'std': 1.0, 'min': 7.0, '25%': 7.5, '50%': 8.0, '75%': 8.5, 'max': 9.0}, 'B': {'count': 3.0, 'mean': 11.0, 'std': 1.0, 'min': 10.0, '25%': 10.5, '50%': 11.0, '75%': 11.5, 'max': 12.0}}\n",
      "{'A': {'count': 3.0, 'mean': 14.0, 'std': 1.0, 'min': 13.0, '25%': 13.5, '50%': 14.0, '75%': 14.5, 'max': 15.0}, 'B': {'count': 3.0, 'mean': 17.0, 'std': 1.0, 'min': 16.0, '25%': 16.5, '50%': 17.0, '75%': 17.5, 'max': 18.0}}\n",
      "{'A': {'count': 3.0, 'mean': 19.0, 'std': 6.082762530298219, 'min': 12.0, '25%': 17.0, '50%': 22.0, '75%': 22.5, 'max': 23.0}, 'B': {'count': 3.0, 'mean': 5.0, 'std': 1.0, 'min': 4.0, '25%': 4.5, '50%': 5.0, '75%': 5.5, 'max': 6.0}}\n",
      "{'A': {'count': 3.0, 'mean': 28.0, 'std': 1.0, 'min': 27.0, '25%': 27.5, '50%': 28.0, '75%': 28.5, 'max': 29.0}, 'B': {'count': 3.0, 'mean': 11.0, 'std': 1.0, 'min': 10.0, '25%': 10.5, '50%': 11.0, '75%': 11.5, 'max': 12.0}}\n",
      "{'A': {'count': 3.0, 'mean': 214.0, 'std': 1.0, 'min': 213.0, '25%': 213.5, '50%': 214.0, '75%': 214.5, 'max': 215.0}, 'B': {'count': 3.0, 'mean': 17.0, 'std': 1.0, 'min': 16.0, '25%': 16.5, '50%': 17.0, '75%': 17.5, 'max': 18.0}}\n",
      "{'A': {'count': 3.0, 'mean': 32.0, 'std': 1.0, 'min': 31.0, '25%': 31.5, '50%': 32.0, '75%': 32.5, 'max': 33.0}, 'B': {'count': 3.0, 'mean': 5.0, 'std': 1.0, 'min': 4.0, '25%': 4.5, '50%': 5.0, '75%': 5.5, 'max': 6.0}}\n",
      "{'A': {'count': 3.0, 'mean': 38.0, 'std': 1.0, 'min': 37.0, '25%': 37.5, '50%': 38.0, '75%': 38.5, 'max': 39.0}, 'B': {'count': 3.0, 'mean': 11.0, 'std': 1.0, 'min': 10.0, '25%': 10.5, '50%': 11.0, '75%': 11.5, 'max': 12.0}}\n",
      "{'A': {'count': 3.0, 'mean': 314.0, 'std': 1.0, 'min': 313.0, '25%': 313.5, '50%': 314.0, '75%': 314.5, 'max': 315.0}, 'B': {'count': 3.0, 'mean': 17.0, 'std': 1.0, 'min': 16.0, '25%': 16.5, '50%': 17.0, '75%': 17.5, 'max': 18.0}}\n",
      "{'A': {'count': 3.0, 'mean': 42.0, 'std': 1.0, 'min': 41.0, '25%': 41.5, '50%': 42.0, '75%': 42.5, 'max': 43.0}, 'B': {'count': 3.0, 'mean': 5.0, 'std': 1.0, 'min': 4.0, '25%': 4.5, '50%': 5.0, '75%': 5.5, 'max': 6.0}}\n",
      "{'A': {'count': 3.0, 'mean': 48.0, 'std': 1.0, 'min': 47.0, '25%': 47.5, '50%': 48.0, '75%': 48.5, 'max': 49.0}, 'B': {'count': 3.0, 'mean': 11.0, 'std': 1.0, 'min': 10.0, '25%': 10.5, '50%': 11.0, '75%': 11.5, 'max': 12.0}}\n",
      "{'A': {'count': 3.0, 'mean': 414.0, 'std': 1.0, 'min': 413.0, '25%': 413.5, '50%': 414.0, '75%': 414.5, 'max': 415.0}, 'B': {'count': 3.0, 'mean': 17.0, 'std': 1.0, 'min': 16.0, '25%': 16.5, '50%': 17.0, '75%': 17.5, 'max': 18.0}}\n",
      "{'A': {'count': 3.0, 'mean': 52.0, 'std': 1.0, 'min': 51.0, '25%': 51.5, '50%': 52.0, '75%': 52.5, 'max': 53.0}, 'B': {'count': 3.0, 'mean': 5.0, 'std': 1.0, 'min': 4.0, '25%': 4.5, '50%': 5.0, '75%': 5.5, 'max': 6.0}}\n",
      "{'A': {'count': 3.0, 'mean': 58.0, 'std': 1.0, 'min': 57.0, '25%': 57.5, '50%': 58.0, '75%': 58.5, 'max': 59.0}, 'B': {'count': 3.0, 'mean': 11.0, 'std': 1.0, 'min': 10.0, '25%': 10.5, '50%': 11.0, '75%': 11.5, 'max': 12.0}}\n",
      "{'A': {'count': 3.0, 'mean': 514.0, 'std': 1.0, 'min': 513.0, '25%': 513.5, '50%': 514.0, '75%': 514.5, 'max': 515.0}, 'B': {'count': 3.0, 'mean': 17.0, 'std': 1.0, 'min': 16.0, '25%': 16.5, '50%': 17.0, '75%': 17.5, 'max': 18.0}}\n",
      "{'A': {'count': 3.0, 'mean': 62.0, 'std': 1.0, 'min': 61.0, '25%': 61.5, '50%': 62.0, '75%': 62.5, 'max': 63.0}, 'B': {'count': 3.0, 'mean': 5.0, 'std': 1.0, 'min': 4.0, '25%': 4.5, '50%': 5.0, '75%': 5.5, 'max': 6.0}}\n",
      "{'A': {'count': 3.0, 'mean': 68.0, 'std': 1.0, 'min': 67.0, '25%': 67.5, '50%': 68.0, '75%': 68.5, 'max': 69.0}, 'B': {'count': 3.0, 'mean': 11.0, 'std': 1.0, 'min': 10.0, '25%': 10.5, '50%': 11.0, '75%': 11.5, 'max': 12.0}}\n",
      "{'A': {'count': 3.0, 'mean': 714.0, 'std': 1.0, 'min': 713.0, '25%': 713.5, '50%': 714.0, '75%': 714.5, 'max': 715.0}, 'B': {'count': 3.0, 'mean': 17.0, 'std': 1.0, 'min': 16.0, '25%': 16.5, '50%': 17.0, '75%': 17.5, 'max': 18.0}}\n"
     ]
    }
   ],
   "source": [
    "from data_processing import run_pool\n",
    "import pandas as pd\n",
    "\n",
    "data = [\n",
    "        {'A': 1, 'B': 4}, {'A': 2, 'B': 5}, {'A': 3, 'B': 6},\n",
    "        {'A': 7, 'B': 10}, {'A': 8, 'B': 11}, {'A': 9, 'B': 12},\n",
    "        {'A': 13, 'B': 16}, {'A': 14, 'B': 17}, {'A': 15, 'B': 18},\n",
    "        {'A': 12, 'B': 4}, {'A': 22, 'B': 5}, {'A': 23, 'B': 6},\n",
    "        {'A': 27, 'B': 10}, {'A': 28, 'B': 11}, {'A': 29, 'B': 12},\n",
    "        {'A': 213, 'B': 16}, {'A': 214, 'B': 17}, {'A': 215, 'B': 18},\n",
    "        {'A': 31, 'B': 4}, {'A': 32, 'B': 5}, {'A': 33, 'B': 6},\n",
    "        {'A': 37, 'B': 10}, {'A': 38, 'B': 11}, {'A':39, 'B': 12},\n",
    "        {'A': 313, 'B': 16}, {'A': 314, 'B': 17}, {'A': 315, 'B': 18},\n",
    "        {'A': 41, 'B': 4}, {'A': 42, 'B': 5}, {'A': 43, 'B': 6},\n",
    "        {'A': 47, 'B': 10}, {'A': 48, 'B': 11}, {'A': 49, 'B': 12},\n",
    "        {'A': 413, 'B': 16}, {'A': 414, 'B': 17}, {'A': 415, 'B': 18},\n",
    "        {'A': 51, 'B': 4}, {'A': 52, 'B': 5}, {'A': 53, 'B': 6},\n",
    "        {'A': 57, 'B': 10}, {'A': 58, 'B': 11}, {'A': 59, 'B': 12},\n",
    "        {'A': 513, 'B': 16}, {'A': 514, 'B': 17}, {'A': 515, 'B': 18},\n",
    "        {'A': 61, 'B': 4}, {'A': 62, 'B': 5}, {'A': 63, 'B': 6},\n",
    "        {'A': 67, 'B': 10}, {'A': 68, 'B': 11}, {'A': 69, 'B': 12},\n",
    "        {'A': 713, 'B': 16}, {'A': 714, 'B': 17}, {'A':715, 'B': 18},\n",
    "    ]\n",
    "    \n",
    "# Run with a specified number of CPUs\n",
    "results = run_pool(data, custom_process_data)\n",
    "for result in results:\n",
    "    print(result)"
   ]
  },
  {
   "cell_type": "code",
   "execution_count": null,
   "id": "7450edb9-fa3e-4a7d-ab20-444435e371b7",
   "metadata": {},
   "outputs": [],
   "source": []
  }
 ],
 "metadata": {
  "kernelspec": {
   "display_name": "Python 3 (ipykernel)",
   "language": "python",
   "name": "python3"
  },
  "language_info": {
   "codemirror_mode": {
    "name": "ipython",
    "version": 3
   },
   "file_extension": ".py",
   "mimetype": "text/x-python",
   "name": "python",
   "nbconvert_exporter": "python",
   "pygments_lexer": "ipython3",
   "version": "3.11.3"
  }
 },
 "nbformat": 4,
 "nbformat_minor": 5
}
