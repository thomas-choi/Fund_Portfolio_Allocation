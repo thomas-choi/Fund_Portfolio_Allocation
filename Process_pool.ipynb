{
 "cells": [
  {
   "cell_type": "code",
   "execution_count": null,
   "id": "abe273ed-b331-4905-8667-e9157b551f22",
   "metadata": {},
   "outputs": [],
   "source": [
    "def custom_process_data(data):\n",
    "    # Example processing function\n",
    "    df = pd.DataFrame(data)\n",
    "    result = df.describe().to_dict()\n",
    "    return result\n"
   ]
  },
  {
   "cell_type": "code",
   "execution_count": null,
   "id": "18331993-b40e-4851-9230-a01bf3c8dadd",
   "metadata": {},
   "outputs": [],
   "source": [
    "from data_processing import run_pool\n",
    "import pandas as pd\n",
    "\n",
    "data = [\n",
    "        {'A': 1, 'B': 4}, {'A': 2, 'B': 5}, {'A': 3, 'B': 6},\n",
    "        {'A': 7, 'B': 10}, {'A': 8, 'B': 11}, {'A': 9, 'B': 12},\n",
    "        {'A': 13, 'B': 16}, {'A': 14, 'B': 17}, {'A': 15, 'B': 18},\n",
    "        {'A': 12, 'B': 4}, {'A': 22, 'B': 5}, {'A': 23, 'B': 6},\n",
    "        {'A': 27, 'B': 10}, {'A': 28, 'B': 11}, {'A': 29, 'B': 12},\n",
    "        {'A': 213, 'B': 16}, {'A': 214, 'B': 17}, {'A': 215, 'B': 18},\n",
    "        {'A': 31, 'B': 4}, {'A': 32, 'B': 5}, {'A': 33, 'B': 6},\n",
    "        {'A': 37, 'B': 10}, {'A': 38, 'B': 11}, {'A':39, 'B': 12},\n",
    "        {'A': 313, 'B': 16}, {'A': 314, 'B': 17}, {'A': 315, 'B': 18},\n",
    "        {'A': 41, 'B': 4}, {'A': 42, 'B': 5}, {'A': 43, 'B': 6},\n",
    "        {'A': 47, 'B': 10}, {'A': 48, 'B': 11}, {'A': 49, 'B': 12},\n",
    "        {'A': 413, 'B': 16}, {'A': 414, 'B': 17}, {'A': 415, 'B': 18},\n",
    "        {'A': 51, 'B': 4}, {'A': 52, 'B': 5}, {'A': 53, 'B': 6},\n",
    "        {'A': 57, 'B': 10}, {'A': 58, 'B': 11}, {'A': 59, 'B': 12},\n",
    "        {'A': 513, 'B': 16}, {'A': 514, 'B': 17}, {'A': 515, 'B': 18},\n",
    "        {'A': 61, 'B': 4}, {'A': 62, 'B': 5}, {'A': 63, 'B': 6},\n",
    "        {'A': 67, 'B': 10}, {'A': 68, 'B': 11}, {'A': 69, 'B': 12},\n",
    "        {'A': 713, 'B': 16}, {'A': 714, 'B': 17}, {'A':715, 'B': 18},\n",
    "    ]\n",
    "    \n",
    "# Run with a specified number of CPUs\n",
    "results = run_pool(data, custom_process_data)\n",
    "for result in results:\n",
    "    print(result)"
   ]
  },
  {
   "cell_type": "code",
   "execution_count": null,
   "id": "7450edb9-fa3e-4a7d-ab20-444435e371b7",
   "metadata": {},
   "outputs": [],
   "source": []
  }
 ],
 "metadata": {
  "kernelspec": {
   "display_name": "Python 3 (ipykernel)",
   "language": "python",
   "name": "python3"
  },
  "language_info": {
   "codemirror_mode": {
    "name": "ipython",
    "version": 3
   },
   "file_extension": ".py",
   "mimetype": "text/x-python",
   "name": "python",
   "nbconvert_exporter": "python",
   "pygments_lexer": "ipython3",
   "version": "3.8.10"
  }
 },
 "nbformat": 4,
 "nbformat_minor": 5
}
