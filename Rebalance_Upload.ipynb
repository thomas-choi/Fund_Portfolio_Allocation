{
 "cells": [
  {
   "cell_type": "code",
   "execution_count": null,
   "id": "1f6883e1-f87f-4ce0-988b-faeb62046fcc",
   "metadata": {},
   "outputs": [],
   "source": [
    "from dotenv import load_dotenv\n",
    "import logging\n",
    "import numpy as np\n",
    "import dataUtil as DU"
   ]
  },
  {
   "cell_type": "code",
   "execution_count": null,
   "id": "8baab140-ac18-41eb-b3f4-1081d8a2ecb0",
   "metadata": {},
   "outputs": [],
   "source": [
    "import pandas as pd\n",
    "import datetime as dt\n",
    "import os \n",
    "import json \n",
    "import warnings\n",
    "\n",
    "warnings.filterwarnings(\"ignore\")"
   ]
  },
  {
   "cell_type": "code",
   "execution_count": null,
   "id": "bef7f465-81ef-4548-b91e-c831bfc405c3",
   "metadata": {},
   "outputs": [],
   "source": [
    "def convert_toppath(topR, basep):\n",
    "    # print(topR)\n",
    "    obj=topR.Objective\n",
    "    rm=topR.Risk_measure\n",
    "    intv=topR.R_Interval\n",
    "    rb_filep = os.path.join(basep, f\"weights_{obj}_{intv}_{rm}.csv\")\n",
    "    print(rb_filep)\n",
    "    return rb_filep, obj, intv, rm"
   ]
  },
  {
   "cell_type": "code",
   "execution_count": null,
   "id": "e65e212a-4139-4cf5-905a-4a29943dc9c6",
   "metadata": {},
   "outputs": [],
   "source": [
    "load_dotenv() #Check path for env variables\n",
    "logging.getLogger().setLevel(logging.DEBUG)"
   ]
  },
  {
   "cell_type": "code",
   "execution_count": null,
   "id": "0d9c7ea4-8f78-44fa-99f7-aef14dfb4ec3",
   "metadata": {},
   "outputs": [],
   "source": [
    "# filenames = next(walk(data_path), (None, None, []))[2]  # [] if no file\n",
    "rebalance_date = dt.datetime(2025, 2, 8)\n",
    "data_path = rebalance_date.strftime(\"Rebalance-%Y%m%d\")\n",
    "rb_folders = [f for f in os.listdir(data_path) if (\"Classic_\" in f) and os.path.isdir(os.path.join(data_path, f))]\n",
    "display(rb_folders)"
   ]
  },
  {
   "cell_type": "code",
   "execution_count": null,
   "id": "c8a1aeae-20dd-44c9-8580-b7adea93d7aa",
   "metadata": {},
   "outputs": [],
   "source": [
    "for rb_folder in rb_folders:\n",
    "    display(rb_folder)\n",
    "    assets_selection =  rb_folder.split('_')[1]\n",
    "    int_v =  list( rb_folder.split('_')[3])\n",
    "    print(assets_selection, int_v)\n",
    "    for i in int_v:\n",
    "        outputp = os.path.join(data_path, rb_folder)\n",
    "        display(outputp)\n",
    "        RB_metric = pd.read_csv(os.path.join(outputp, \"Port_Metric.csv\")).dropna()\n",
    "        # display(RB_metric)\n",
    "        for itv in ['MinRisk','Sharpe','MaxRet']:\n",
    "            print(i, itv)\n",
    "            mask1 = (RB_metric['R_Interval'].isin([i]))\n",
    "            mask2 = (RB_metric['Objective'].isin([itv]))\n",
    "            metric = RB_metric.loc[mask1 & mask2].sort_values(by=['CAGR'], ascending=False)\n",
    "            display(metric.head(10))\n",
    "            # metric = RB_metric.loc[(RB_metric['R_Interval']==i) & (RB_metric['Objective']==itv)].sort_values(by=['CAGR', 'Sharpe Ratio'], ascending=False)\n",
    "            top_file, obj, intv, rm = convert_toppath(metric.iloc[0], outputp)\n",
    "    \n",
    "            we = pd.read_csv(top_file).fillna(0.0)\n",
    "            display(we.tail())\n",
    "            i_data = we.iloc[-1].Date\n",
    "            print(i_data)\n",
    "            w_dict = json.dumps(we.drop(columns=['index','Date']).iloc[-1].to_dict())\n",
    "            print(w_dict)\n",
    "    \n",
    "            sql_s = f\"INSERT INTO Trading.weights (date, port_name, risk_mes, obj_type, int_type, weights) VALUES (\\'{i_data}\\', \\'{assets_selection}\\', \\'{rm}\\', \\'{obj}\\', \\'{intv}\\', \\'{w_dict}\\');\"\n",
    "            display(sql_s)\n",
    "    \n",
    "            DU.ExecSQL(sql_s)"
   ]
  },
  {
   "cell_type": "code",
   "execution_count": null,
   "id": "293530ea-38d4-44f9-9bcf-0e5461b697f7",
   "metadata": {},
   "outputs": [],
   "source": []
  },
  {
   "cell_type": "code",
   "execution_count": null,
   "id": "aecda7ae-2288-4746-95aa-81c81537be7f",
   "metadata": {},
   "outputs": [],
   "source": []
  },
  {
   "cell_type": "code",
   "execution_count": null,
   "id": "f3cc2dd2-df3c-49ed-858e-16e3058d93ee",
   "metadata": {},
   "outputs": [],
   "source": []
  }
 ],
 "metadata": {
  "kernelspec": {
   "display_name": "Python 3 (ipykernel)",
   "language": "python",
   "name": "python3"
  },
  "language_info": {
   "codemirror_mode": {
    "name": "ipython",
    "version": 3
   },
   "file_extension": ".py",
   "mimetype": "text/x-python",
   "name": "python",
   "nbconvert_exporter": "python",
   "pygments_lexer": "ipython3",
   "version": "3.8.20"
  }
 },
 "nbformat": 4,
 "nbformat_minor": 5
}
