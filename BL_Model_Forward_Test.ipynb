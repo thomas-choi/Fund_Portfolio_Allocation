{
 "cells": [
  {
   "cell_type": "markdown",
   "id": "cb095660",
   "metadata": {},
   "source": [
    "### Environment Setup"
   ]
  },
  {
   "cell_type": "code",
   "execution_count": null,
   "id": "879c99a6",
   "metadata": {},
   "outputs": [],
   "source": [
    "import pandas as pd\n",
    "import datetime\n",
    "import yfinance as yf\n",
    "import backtrader as bt\n",
    "import numpy as np\n",
    "import warnings\n",
    "\n",
    "warnings.filterwarnings(\"ignore\")"
   ]
  },
  {
   "cell_type": "markdown",
   "id": "cd293a36",
   "metadata": {},
   "source": [
    "### Parameters Setup"
   ]
  },
  {
   "cell_type": "code",
   "execution_count": null,
   "id": "237a07f0",
   "metadata": {},
   "outputs": [],
   "source": [
    "# Date range\n",
    "start = '2013-01-01'\n",
    "end = '2024-09-30'\n",
    "\n",
    "benchmark_symbol = 'SPY'\n",
    "\n",
    "# Tickers of assets\n",
    "stocks_1 = ['JCI', 'TGT', 'CMCSA', 'CPB', 'MO', 'APA', 'MMC', 'JPM',\n",
    "          'ZION', 'PSA', 'BAX', 'BMY', 'LUV', 'PCAR', 'TXT', 'TMO',\n",
    "          'DE', 'MSFT', 'HPQ', 'SEE', 'VZ', 'CNP', 'NI', 'T', 'BA']\n",
    "industry_1 =  ['Consumer Discretionary','Consumer Discretionary',\n",
    "                              'Consumer Discretionary', 'Consumer Staples',\n",
    "                              'Consumer Staples','Energy','Financials',\n",
    "                              'Financials','Financials','Financials',\n",
    "                              'Health Care','Health Care','Industrials','Industrials',\n",
    "                              'Industrials','Health Care','Industrials',\n",
    "                              'Information Technology','Information Technology',\n",
    "                              'Materials','Telecommunications Services','Utilities',\n",
    "                              'Utilities','Telecommunications Services','Financials']\n",
    "stocks_2 = [\n",
    "            'AMAT', 'AMD','AVGO',  \n",
    "            'BAC','BKR','BMY','BSX',\n",
    "            'C','CMCSA',\n",
    "            'CSCO','CSX','CVS','CVX',\n",
    "            'DIS','DVN',\n",
    "            'FCX','FNF','GEN','GILD',\n",
    "            'GM','HAL','HPQ','INTC',\n",
    "            'IPG','JNJ','KDP',\n",
    "            'KKR','KMI','KO',\n",
    "            'MDLZ','MO','MRK','MRO',\n",
    "            'MRVL','MSFT','MU','NEM',\n",
    "]\n",
    "\n",
    "industry_2 = [\n",
    "        'Technology','Technology','Technology',\n",
    "        'Financial Services','Energy','Healthcare','Healthcare',\n",
    "        'Financial Services','Communication Services',\n",
    "        'Technology','Industrials','Healthcare','Energy',\n",
    "        'Communication Services','Energy',\n",
    "        'Basic Materials','Financial Services','Technology','Healthcare',\n",
    "        'Consumer Cyclical','Energy','Technology','Technology',\n",
    "        'Communication Services','Healthcare','Consumer Defensive',\n",
    "        'Financial Services','Energy','Consumer Defensive',\n",
    "        'Consumer Defensive','Consumer Defensive','Healthcare','Energy',\n",
    "        'Technology','Technology','Technology','Basic Materials',\n",
    "]\n",
    "\n",
    "ETF_BOND = ['HYG','LQD','TLT',\n",
    "           ]\n",
    "industry_BOND = ['Bond','Bond','Bond',\n",
    "                ]\n",
    "\n",
    "ETF_COMM = [\n",
    "    'DBA','GLD','SLV','XLE','XME','XOP',\n",
    "]\n",
    "\n",
    "industry_COMM=[\n",
    "    'Commodity','Commodity','Commodity','Commodity','Commodity','Commodity',\n",
    "]\n",
    "\n",
    "ETF_list = ['HYG','LQD','TLT',\n",
    "           'DBA',\n",
    "           'GLD','SLV','XLE','XME','XOP','XBI','EFA',\n",
    "            'EWW','EWZ','VNQ','XHB',\n",
    "            'IWM','QQQ']\n",
    "industry_etf =  ['Bond','Bond','Bond',\n",
    "               'Commodity',\n",
    "               'Commodity','Commodity','Commodity','Commodity','Commodity',\n",
    "               'Healthcare',\n",
    "               'International','International','International',\n",
    "               'Real Estate','Real Estate',\n",
    "               'US Major','US Major',\n",
    "               ]\n",
    "\n",
    "assets = stocks_2 + ETF_BOND + ETF_COMM + [benchmark_symbol]\n",
    "\n",
    "asset_classes_dict = {'Assets': stocks_2 + ETF_BOND + ETF_COMM, \n",
    "                 'Industry': industry_2+industry_BOND+industry_COMM}\n",
    "\n",
    "assets.sort()"
   ]
  },
  {
   "cell_type": "markdown",
   "id": "7be5b591",
   "metadata": {},
   "source": [
    "### Download Data\n",
    "Full data download from yfinance to **prices** dataframe"
   ]
  },
  {
   "cell_type": "code",
   "execution_count": null,
   "id": "4d24d422",
   "metadata": {},
   "outputs": [],
   "source": [
    "# Downloading data\n",
    "prices = yf.download(assets, start=start, end=end)\n",
    "prices = prices.dropna()"
   ]
  },
  {
   "cell_type": "code",
   "execution_count": null,
   "id": "c44d2c2f",
   "metadata": {},
   "outputs": [],
   "source": [
    "display(prices)"
   ]
  },
  {
   "cell_type": "code",
   "execution_count": null,
   "id": "fdf32753-79b6-492b-b63c-5faafae58da0",
   "metadata": {},
   "outputs": [],
   "source": [
    "############################################################\n",
    "# Calculate assets returns\n",
    "############################################################\n",
    "\n",
    "# pd.options.display.float_format = '{:.4%}'.format\n",
    "\n",
    "data = prices.loc[:, ('Adj Close', slice(None))]\n",
    "data.columns = assets\n",
    "data = data.drop(columns=[benchmark_symbol]).dropna()\n",
    "returns = data.pct_change().dropna()\n",
    "display(returns.index[0], returns.index[-1])"
   ]
  },
  {
   "cell_type": "code",
   "execution_count": null,
   "id": "d249c747",
   "metadata": {},
   "outputs": [],
   "source": [
    "#  all test is from the 1004th day and finish at the last testdata day.\n",
    "#\n",
    "start_test = 1004\n",
    "end_test = prices.shape[0] - 1\n",
    "test_size = 1000\n",
    "print(f\" Testing data from {start_test} to {end_test}\")"
   ]
  },
  {
   "cell_type": "markdown",
   "id": "540d2863",
   "metadata": {},
   "source": [
    "### Building the Backtest Function with Backtrader"
   ]
  },
  {
   "cell_type": "code",
   "execution_count": null,
   "id": "1b22adbe",
   "metadata": {},
   "outputs": [],
   "source": [
    "############################################################\n",
    "# Defining the backtest function \n",
    "############################################################\n",
    "\n",
    "def backtest(datas, strategy, start, end, plot=False, **kwargs):\n",
    "    cerebro = bt.Cerebro()\n",
    "\n",
    "    # print(datas)\n",
    "    print(f\"start={start} - end={end}\")\n",
    "    # Here we add transaction costs and other broker costs\n",
    "    cerebro.broker.setcash(1000000.0)\n",
    "    cerebro.broker.setcommission(commission=0.005) # Commission 0.5%\n",
    "    cerebro.broker.set_slippage_perc(0.005, # Slippage 0.5%\n",
    "                                     slip_open=True,\n",
    "                                     slip_limit=True,\n",
    "                                     slip_match=True,\n",
    "                                     slip_out=False)\n",
    "    for data in datas:\n",
    "        cerebro.adddata(data)\n",
    "\n",
    "    # Here we add the indicators that we are going to store\n",
    "    cerebro.addanalyzer(bt.analyzers.TimeReturn, timeframe=bt.TimeFrame.Days)\n",
    "    cerebro.addanalyzer(bt.analyzers.SharpeRatio, riskfreerate=0.0)\n",
    "    cerebro.addanalyzer(bt.analyzers.Returns)\n",
    "    cerebro.addanalyzer(bt.analyzers.DrawDown)\n",
    "    cerebro.addstrategy(strategy, **kwargs)\n",
    "    cerebro.addobserver(bt.observers.Value)\n",
    "    cerebro.addobserver(bt.observers.DrawDown)\n",
    "    results = cerebro.run(stdstats=False)\n",
    "    if plot:\n",
    "        print(f\"backtest.plot: {start}-{end}\")\n",
    "        cerebro.plot(iplot=False, start=start, end=end)\n",
    "    return results[0]\n"
   ]
  },
  {
   "cell_type": "markdown",
   "id": "de95a43d",
   "metadata": {},
   "source": [
    "### Building Data Feeds for Backtesting\n",
    "**asset_prices** = list of all asset except 'SPY' in the bt.feeds of *OHLC + Volume*    \n",
    "**benchmark**  = 'SPY' *OHLC+Volume* in bt.feeds"
   ]
  },
  {
   "cell_type": "code",
   "execution_count": null,
   "id": "51ed39b3",
   "metadata": {
    "scrolled": true
   },
   "outputs": [],
   "source": [
    "############################################################\n",
    "# Create objects that contain the prices of assets\n",
    "############################################################\n",
    "# Creating Assets bt.feeds\n",
    "assets_prices = []\n",
    "for i in assets:\n",
    "    if i != benchmark_symbol:\n",
    "        prices_ = prices.drop(columns='Adj Close').loc[:, (slice(None), i)].dropna()\n",
    "        prices_.columns = ['Close', 'High', 'Low', 'Open', 'Volume']\n",
    "        print(f\"{i}: \\n\", prices_)\n",
    "        assets_prices.append(bt.feeds.PandasData(dataname=prices_, plot=False))\n",
    "        \n",
    "print(assets_prices)\n",
    "\n",
    "# Creating Benchmark bt.feeds        \n",
    "prices_ = prices.drop(columns='Adj Close').loc[:, (slice(None), benchmark_symbol)].dropna()\n",
    "prices_.columns = ['Close', 'High', 'Low', 'Open', 'Volume']\n",
    "display(benchmark_symbol)\n",
    "display(prices_)\n",
    "benchmark = bt.feeds.PandasData(dataname=prices_, plot=False)\n",
    "\n",
    "display(prices_.head())"
   ]
  },
  {
   "cell_type": "code",
   "execution_count": null,
   "id": "61fdeafb",
   "metadata": {},
   "outputs": [],
   "source": [
    "(slice(None), benchmark_symbol)"
   ]
  },
  {
   "cell_type": "code",
   "execution_count": null,
   "id": "503d0d94",
   "metadata": {},
   "outputs": [],
   "source": [
    "tt = prices.drop(columns='Adj Close').loc[:, (slice(None), benchmark_symbol)].dropna()\n",
    "display(tt.columns)\n",
    "display(prices_)"
   ]
  },
  {
   "cell_type": "markdown",
   "id": "7c7aad0e",
   "metadata": {},
   "source": [
    "### Buy and Hold for the BenchMark "
   ]
  },
  {
   "cell_type": "code",
   "execution_count": null,
   "id": "dac8bd5a",
   "metadata": {},
   "outputs": [],
   "source": [
    "############################################################\n",
    "# Building the Buy and Hold strategy\n",
    "############################################################\n",
    "\n",
    "class BuyAndHold(bt.Strategy):\n",
    "\n",
    "    def __init__(self):\n",
    "        self.counter = 0\n",
    "\n",
    "    def next(self):\n",
    "        if self.counter >= start_test:\n",
    "            if self.getposition(self.data).size == 0:\n",
    "                self.order_target_percent(self.data, target=0.99)\n",
    "        self.counter += 1 "
   ]
  },
  {
   "cell_type": "code",
   "execution_count": null,
   "id": "1deabb9a",
   "metadata": {},
   "outputs": [],
   "source": [
    "print(start_test, end_test,benchmark )"
   ]
  },
  {
   "cell_type": "code",
   "execution_count": null,
   "id": "ec0f4a41",
   "metadata": {},
   "outputs": [],
   "source": [
    "############################################################\n",
    "# Run the backtest for the bench mark\n",
    "############################################################\n",
    "%matplotlib inline\n",
    "\n",
    "import matplotlib.pyplot as plt\n",
    "plt.rcParams[\"figure.figsize\"] = (10, 6) # (w, h)\n",
    "plt.plot() # We need to do this to avoid errors in inline plot\n",
    "\n",
    "# dd, cagr, sharpe = backtest([benchmark],\n",
    "benchmark0 = backtest([benchmark],\n",
    "                            BuyAndHold,\n",
    "                            start=start_test,\n",
    "                            end=end_test,\n",
    "                            plot=True)"
   ]
  },
  {
   "cell_type": "code",
   "execution_count": null,
   "id": "b90d82ec",
   "metadata": {},
   "outputs": [],
   "source": [
    "def RetreiveStats(bt_result, rm, obj, r_int):\n",
    "    dd = bt_result.analyzers.drawdown.get_analysis()['max']['drawdown']\n",
    "    cagr= bt_result.analyzers.returns.get_analysis()['rnorm100']\n",
    "    sharpe =bt_result.analyzers.sharperatio.get_analysis()['sharperatio']\n",
    "\n",
    "    return {'Risk_measure':rm, 'Objective':obj, 'R_Interval': r_int, 'Max DrawDown':dd/100.0, 'CAGR': cagr/100.0, 'Sharpe Ratio':sharpe}"
   ]
  },
  {
   "cell_type": "code",
   "execution_count": null,
   "id": "952bc323",
   "metadata": {},
   "outputs": [],
   "source": [
    "metric_list = []\n",
    "\n",
    "metric_list.append(RetreiveStats(benchmark0, benchmark_symbol, 'N/A', 'N/A'))\n",
    "display(metric_list)"
   ]
  },
  {
   "cell_type": "code",
   "execution_count": null,
   "id": "a4581cce",
   "metadata": {},
   "outputs": [],
   "source": [
    "#\n",
    "# Retreive Daily Return from bt\n",
    "#\n",
    "def RetreiveDailyReturn(bt_result, s_name):\n",
    "    tret_analyzer = bt_result.analyzers.getbyname('timereturn')\n",
    "    ret_ = tret_analyzer.get_analysis()\n",
    "    return pd.DataFrame(ret_.items(), columns=['Date', s_name])\n"
   ]
  },
  {
   "cell_type": "code",
   "execution_count": null,
   "id": "f5703365",
   "metadata": {},
   "outputs": [],
   "source": [
    "BM_ret = RetreiveDailyReturn(benchmark0, benchmark_symbol)\n",
    "print(BM_ret)\n",
    "BM_ret.to_csv(f\"{benchmark_symbol}_ret.csv\", index=False)"
   ]
  },
  {
   "cell_type": "markdown",
   "id": "aa18e42a",
   "metadata": {},
   "source": [
    "### Rebalancing Monthly, Quarterly, Semiannually using Riskfolio-Lib"
   ]
  },
  {
   "cell_type": "code",
   "execution_count": null,
   "id": "2e759a3a",
   "metadata": {},
   "outputs": [],
   "source": [
    "############################################################\n",
    "# Selecting Dates for Rebalancing\n",
    "############################################################\n",
    "\n",
    "def SelectIndex(price_in, mode=\"Q\"):\n",
    "    # Selecting last day of month of available data\n",
    "    index_Month = price_in.groupby([price_in.index.year, price_in.index.month]).tail(1).index\n",
    "    # print(\"Monthly: \", index_Month)\n",
    "    index_daily = price_in.index\n",
    "    # print(\"Daily: \", index_daily)\n",
    "\n",
    "    # Quarterly Dates\n",
    "    index_Quater = [x for x in index_Month if float(x.month) % 3.0 == 0 ] \n",
    "    # print(\"Quarterly: \", index_Quater)\n",
    "\n",
    "    # Semi-Annually Dates\n",
    "    index_Semi = [x for x in index_Month if float(x.month) % 6.0 == 0 ] \n",
    "    # print(\"Semi-Annually: \", index_Semi)\n",
    "\n",
    "    match mode:\n",
    "        case \"Q\": index=index_Quater\n",
    "        case \"M\": index = index_Month\n",
    "        case \"D\": index = index_daily\n",
    "        case \"S\": index = index_Semi\n",
    "    # Dates where the strategy will be backtested\n",
    "    index_ = [index_daily.get_loc(x) for x in index if index_daily.get_loc(x) >= start_test]\n",
    "    return index_"
   ]
  },
  {
   "cell_type": "code",
   "execution_count": null,
   "id": "691e1bfd-f478-4daf-9c77-8fd88d6a3ea5",
   "metadata": {},
   "outputs": [],
   "source": [
    "rebalance_index = {}"
   ]
  },
  {
   "cell_type": "code",
   "execution_count": null,
   "id": "317e301c",
   "metadata": {},
   "outputs": [],
   "source": [
    "rebalance_index[\"M\"] = SelectIndex(returns, mode=\"M\")\n",
    "rebalance_index[\"Q\"] = SelectIndex(returns, mode=\"Q\")\n",
    "rebalance_index[\"S\"] = SelectIndex(returns, mode=\"S\")"
   ]
  },
  {
   "cell_type": "code",
   "execution_count": null,
   "id": "4f634d58",
   "metadata": {},
   "outputs": [],
   "source": [
    "ret = returns.reset_index()\n",
    "display(ret.iloc[rebalance_index[\"M\"]])"
   ]
  },
  {
   "cell_type": "code",
   "execution_count": null,
   "id": "170353e7-b26b-490f-b7b7-ac5f525856a8",
   "metadata": {
    "scrolled": true
   },
   "outputs": [],
   "source": [
    "display(ret.iloc[rebalance_index[\"Q\"]])"
   ]
  },
  {
   "cell_type": "code",
   "execution_count": null,
   "id": "e139b03c-7329-4bc9-97b4-9a3a6173c5a1",
   "metadata": {},
   "outputs": [],
   "source": [
    "display(ret.iloc[rebalance_index[\"S\"]])"
   ]
  },
  {
   "cell_type": "code",
   "execution_count": null,
   "id": "911a8818",
   "metadata": {
    "scrolled": true
   },
   "outputs": [],
   "source": [
    "###########################################################\n",
    "# Building Constraints\n",
    "############################################################\n",
    "\n",
    "asset_classes = pd.DataFrame(asset_classes_dict)\n",
    "asset_classes = asset_classes.sort_values(by=['Assets'])\n",
    "# print(asset_classes)\n",
    "print(asset_classes['Industry'].unique())\n",
    "\n",
    "constraints = {'Disabled': [False, False, True],\n",
    "               'Type': ['All Assets', 'All Classes', 'All Classes'],\n",
    "               'Set': ['', 'Industry', 'Industry'],\n",
    "               'Position': ['', '', ''],\n",
    "               'Sign': ['<=', '<=', '>='],\n",
    "               'Weight': [0.10, 0.20, 0.03],\n",
    "               'Type Relative': ['', '', ''],\n",
    "               'Relative Set': ['', '', ''],\n",
    "               'Relative': ['', '', ''],\n",
    "               'Factor': ['', '', '']}\n",
    "\n",
    "constraints = pd.DataFrame(constraints)\n",
    "\n",
    "display(constraints)"
   ]
  },
  {
   "cell_type": "code",
   "execution_count": null,
   "id": "e1275cbb",
   "metadata": {},
   "outputs": [],
   "source": [
    "############################################################\n",
    "# Building constraint matrixes for Riskfolio Lib\n",
    "############################################################\n",
    "\n",
    "import riskfolio as rp\n",
    "\n",
    "A, B = rp.assets_constraints(constraints, asset_classes)"
   ]
  },
  {
   "cell_type": "code",
   "execution_count": null,
   "id": "acb21fdc-5a6c-4f19-822a-1b3d89daf6e4",
   "metadata": {},
   "outputs": [],
   "source": [
    "############################################################\n",
    "# Building View for Black Litterman\n",
    "############################################################\n",
    "views = {'Disabled': [False, False, False],\n",
    "         'Type': ['Classes', 'Classes', 'Classes'],\n",
    "         'Set': ['Industry', 'Industry', 'Industry'],\n",
    "         'Position': ['Technology', 'Energy', 'Healthcare'],\n",
    "         'Sign': ['>=', '>=', '>='],\n",
    "         'Weight': [0.20, 0.1, 0.09], # Annual terms \n",
    "         'Type Relative': ['Classes', 'Classes', 'Classes'],\n",
    "         'Relative Set': ['Industry', 'Industry', 'Industry'],\n",
    "         'Relative': ['Financial Services', 'Commodity', 'Consumer Defensive']}\n",
    "\n",
    "views = pd.DataFrame(views)\n",
    "\n",
    "display(views)"
   ]
  },
  {
   "cell_type": "code",
   "execution_count": null,
   "id": "7326174d-17c9-48a0-a12e-f7edb994236b",
   "metadata": {},
   "outputs": [],
   "source": [
    "asset_classes"
   ]
  },
  {
   "cell_type": "code",
   "execution_count": null,
   "id": "3dfde50c-17c1-4d63-b0d0-1c26d5da3e3e",
   "metadata": {},
   "outputs": [],
   "source": [
    "P, Q = rp.assets_views(views, asset_classes)\n",
    "\n",
    "display(pd.DataFrame(P.T))\n",
    "display(pd.DataFrame(Q))"
   ]
  },
  {
   "cell_type": "markdown",
   "id": "cdbbbe49",
   "metadata": {},
   "source": [
    "* The optimization is based on the returns of previous 1000 days from last date of each quarter, which is about 4 years"
   ]
  },
  {
   "cell_type": "code",
   "execution_count": null,
   "id": "0d362b6a-3e92-43ce-b540-0c98610e9441",
   "metadata": {},
   "outputs": [],
   "source": [
    "plotFlag = True\n",
    "\n",
    "# Risk Measures available:\n",
    "#\n",
    "# 'MV': Standard Deviation.\n",
    "# 'MAD': Mean Absolute Deviation.\n",
    "# 'MSV': Semi Standard Deviation.\n",
    "# 'FLPM': First Lower Partial Moment (Omega Ratio).\n",
    "# 'SLPM': Second Lower Partial Moment (Sortino Ratio).\n",
    "# 'CVaR': Conditional Value at Risk.\n",
    "# 'EVaR': Entropic Value at Risk.\n",
    "# 'WR': Worst Realization (Minimax)\n",
    "# 'MDD': Maximum Drawdown of uncompounded cumulative returns (Calmar Ratio).\n",
    "# 'ADD': Average Drawdown of uncompounded cumulative returns.\n",
    "# 'CDaR': Conditional Drawdown at Risk of uncompounded cumulative returns.\n",
    "# 'EDaR': Entropic Drawdown at Risk of uncompounded cumulative returns.\n",
    "# 'UCI': Ulcer Index of uncompounded cumulative returns.\n",
    "\n",
    "rms = ['MV', 'MAD', 'MSV', 'FLPM', 'SLPM', 'CVaR',\n",
    "       'EVaR', 'WR', 'MDD', 'ADD', 'CDaR', 'UCI', 'EDaR']\n",
    "# rms = ['MV']\n",
    "\n",
    "# Objective Functions \n",
    "objectives = ['Sharpe', 'MinRisk', 'MaxRet']\n",
    "# objectives = ['Sharpe', 'MaxRet']\n",
    "\n",
    "# rebalance interval: Monthly, Quarterly, Semiannually\n",
    "reb_interval = [\"M\",\"Q\",\"S\"]\n",
    "# reb_interval = [\"Q\",\"S\"]"
   ]
  },
  {
   "cell_type": "code",
   "execution_count": null,
   "id": "e3f8991d-3ba8-42a4-b741-3c680c6865f0",
   "metadata": {},
   "outputs": [],
   "source": [
    "def my_optimize(ob, rr, rrmm, YY, AA, BB, PP, QQ):\n",
    "    # Building the portfolio object\n",
    "    port = rp.Portfolio(returns=YY)\n",
    "    \n",
    "    # port.solvers = ['MOSEK']\n",
    "    port.alpha = 0.05\n",
    "    model='BL' # Could be Classic (historical), BL (Black Litterman) or FM (Factor Model)\n",
    "    hist = False # Use historical scenarios for risk measures that depend on scenarios\n",
    "    rf = 0 # Risk free rate\n",
    "    l = 0 # Risk aversion factor, only useful when obj is 'Utility'\n",
    "    \n",
    "    # Add portfolio constraints\n",
    "    port.ainequality = AA\n",
    "    port.binequality = BB\n",
    "    \n",
    "    # Calculating optimum portfolio\n",
    "    \n",
    "    # Select method and estimate input parameters:\n",
    "    \n",
    "    method_mu='hist' # Method to estimate expected returns based on historical data.\n",
    "    method_cov='hist' # Method to estimate covariance matrix based on historical data.\n",
    "    \n",
    "    port.assets_stats(method_mu=method_mu, method_cov=method_cov)\n",
    "    \n",
    "    # Estimate optimal portfolio:\n",
    "    w = port.optimization(model='Classic', rm=rm, obj=obj, rf=rf, l=l, hist=True)\n",
    "    \n",
    "    # Estimate Black Litterman inputs:\n",
    "    port.blacklitterman_stats(PP, QQ/252, rf=rf, w=w, delta=None, eq=True)\n",
    "    \n",
    "    if rm == 'MV':\n",
    "        hist = False\n",
    "    else:\n",
    "        hist = True\n",
    "    w_bl = port.optimization(model=model, rm=rm, obj=obj, rf=rf, l=l, hist=hist)\n",
    "\n",
    "    return w_bl"
   ]
  },
  {
   "cell_type": "code",
   "execution_count": null,
   "id": "554419d8",
   "metadata": {
    "scrolled": true
   },
   "outputs": [],
   "source": [
    "%%time\n",
    "############################################################\n",
    "# Building a loop that estimate optimal portfolios on\n",
    "# rebalancing dates\n",
    "############################################################\n",
    "\n",
    "models = {}\n",
    "\n",
    "for obj in objectives:\n",
    "    models[obj] = {}\n",
    "    for r in reb_interval:\n",
    "        models[obj][r] = {}\n",
    "        for rm in rms:\n",
    "            print(obj, \",\", r, \",\", rm)\n",
    "            weights = pd.DataFrame([])\n",
    "            for i in rebalance_index[r]:\n",
    "                Y = returns.iloc[i-test_size:i,:] # taking last 4 years (250 trading days per year)\n",
    "                # display(\"from \", Y.index[0], \" to \", Y.index[-1])\n",
    "                # display(Y.head())\n",
    "\n",
    "                # Building the portfolio object\n",
    "                port = rp.Portfolio(returns=Y)\n",
    "\n",
    "                # port.solvers = ['MOSEK']\n",
    "                port.alpha = 0.05\n",
    "                model='BL' # Could be Classic (historical), BL (Black Litterman) or FM (Factor Model)\n",
    "                hist = False # Use historical scenarios for risk measures that depend on scenarios\n",
    "                rf = 0 # Risk free rate\n",
    "                l = 0 # Risk aversion factor, only useful when obj is 'Utility'\n",
    "\n",
    "                # Add portfolio constraints\n",
    "                port.ainequality = A\n",
    "                port.binequality = B\n",
    "                \n",
    "                # Calculating optimum portfolio\n",
    "        \n",
    "                # Select method and estimate input parameters:\n",
    "        \n",
    "                method_mu='hist' # Method to estimate expected returns based on historical data.\n",
    "                method_cov='hist' # Method to estimate covariance matrix based on historical data.\n",
    "        \n",
    "                port.assets_stats(method_mu=method_mu, method_cov=method_cov)\n",
    "                \n",
    "                # Estimate optimal portfolio:\n",
    "                w = port.optimization(model='Classic', rm=rm, obj=obj, rf=rf, l=l, hist=True)\n",
    "                \n",
    "                # Estimate Black Litterman inputs:\n",
    "                port.blacklitterman_stats(P, Q/252, rf=rf, w=w, delta=None, eq=True)\n",
    "\n",
    "                if rm == 'MV':\n",
    "                    hist = False\n",
    "                else:\n",
    "                    hist = True\n",
    "                w = port.optimization(model=model, rm=rm, obj=obj, rf=rf, l=l, hist=hist)\n",
    "\n",
    "                if w is None:\n",
    "                    w = weights.tail(1).T\n",
    "                # display(w)\n",
    "                weights = pd.concat([weights, w.T], axis = 0)\n",
    "            \n",
    "            models[obj][r][rm] = weights.copy()\n",
    "            models[obj][r][rm].index = rebalance_index[r]"
   ]
  },
  {
   "cell_type": "code",
   "execution_count": null,
   "id": "7a33bf89-fcc2-4827-8e37-b9ae95415d0a",
   "metadata": {},
   "outputs": [],
   "source": [
    "pd.options.display.float_format = '{:.4%}'.format"
   ]
  },
  {
   "cell_type": "code",
   "execution_count": null,
   "id": "5892f69d",
   "metadata": {
    "scrolled": true
   },
   "outputs": [],
   "source": [
    "for obj in objectives:\n",
    "    for r in reb_interval:\n",
    "        for rm in rms:\n",
    "            wght = models[obj][r][rm]\n",
    "            display(f'obj={obj}, int={r}, rm={rm}')\n",
    "            display(wght.index)\n",
    "            display(wght.head(5))"
   ]
  },
  {
   "cell_type": "code",
   "execution_count": null,
   "id": "7133eff4-847c-4c94-95d2-2a941f9825f8",
   "metadata": {},
   "outputs": [],
   "source": [
    "display(models['Sharpe']['Q']['MV'])"
   ]
  },
  {
   "cell_type": "code",
   "execution_count": null,
   "id": "27c3f06b",
   "metadata": {},
   "outputs": [],
   "source": [
    "############################################################\n",
    "# Building the Asset Allocation Class\n",
    "############################################################\n",
    "\n",
    "class AssetAllocation(bt.Strategy):\n",
    "\n",
    "    def __init__(self):\n",
    "        print(\"AssetAllocation: \", assets)\n",
    "        j = 0\n",
    "        for i in assets:\n",
    "            setattr(self, i, self.datas[j])\n",
    "            # print(f\"{j},{i}\\n\", self.datas[j])\n",
    "            j += 1\n",
    "        \n",
    "        self.counter = 0\n",
    "        \n",
    "    def next(self):\n",
    "        if self.counter in weights.index.tolist():\n",
    "            for i in assets:\n",
    "#                 print(f\"counter: {self.counter},{i}\")\n",
    "#                 print(\" weights size: \", weights.shape)\n",
    "                w = weights.loc[self.counter, i]\n",
    "                self.order_target_percent(getattr(self, i), target=w)\n",
    "        self.counter += 1"
   ]
  },
  {
   "cell_type": "code",
   "execution_count": null,
   "id": "883139e4",
   "metadata": {
    "scrolled": true
   },
   "outputs": [],
   "source": [
    "%%time\n",
    "############################################################\n",
    "# Backtesting All Strategy\n",
    "############################################################\n",
    "for obj in objectives:\n",
    "    for r in reb_interval:\n",
    "        for rm in rms:\n",
    "            \n",
    "            assets = returns.columns.tolist()\n",
    "            weights = models[obj][r][rm]\n",
    "        \n",
    "            result0 = backtest(assets_prices,\n",
    "                            AssetAllocation,\n",
    "                            start=start_test,\n",
    "                            end=end_test,\n",
    "                            plot=plotFlag)\n",
    "           \n",
    "            metric_list.append(RetreiveStats(result0, rm, obj, r))\n",
    "            display(metric_list)\n",
    "        \n",
    "            Dret = RetreiveDailyReturn(result0, 'Return')\n",
    "            print(Dret)\n",
    "            Dret.to_csv(f\"{obj}_{r}_{rm}_ret.csv\", index=False)\n",
    "            \n",
    "            ############################################################\n",
    "            # Plotting the composition of the last MV portfolio\n",
    "            ############################################################\n",
    "        \n",
    "            w = pd.DataFrame(models[obj][r][rm].iloc[-1,:])\n",
    "\n",
    "            if plotFlag:\n",
    "                # We need matplotlib >= 3.3.0 to use this function\n",
    "                ax = rp.plot_pie(w=w, title=f'{obj}-{rm}-{r}', others=0.05, nrow=25, cmap = \"tab20\",\n",
    "                                height=6, width=10, ax=None)\n",
    "        \n",
    "                # w.plot.pie(subplots=True, figsize=(8, 8))\n",
    "            \n",
    "            ############################################################\n",
    "            # Composition per Industry\n",
    "            ############################################################\n",
    "        \n",
    "            w_classes = pd.concat([asset_classes.set_index('Assets'), w], axis=1)\n",
    "            w_classes = w_classes.groupby(['Industry']).sum()\n",
    "            w_classes.columns = ['weights']\n",
    "            display(w_classes)"
   ]
  },
  {
   "cell_type": "code",
   "execution_count": null,
   "id": "50d03679",
   "metadata": {},
   "outputs": [],
   "source": [
    "metric_df = pd.DataFrame(metric_list)\n",
    "display(metric_df[metric_df['Risk_measure']==benchmark_symbol])\n",
    "display(metric_df.sort_values(by=['Sharpe Ratio','CAGR'], ascending=False))"
   ]
  },
  {
   "cell_type": "code",
   "execution_count": null,
   "id": "7141175f-0ad5-4735-a90b-158e173de14f",
   "metadata": {},
   "outputs": [],
   "source": [
    "display(metric_df[metric_df['R_Interval']=='Q'].sort_values(by=['Sharpe Ratio','CAGR'], ascending=False))"
   ]
  },
  {
   "cell_type": "code",
   "execution_count": null,
   "id": "c5066975-ee17-42c8-8d7a-b49fb40cb138",
   "metadata": {},
   "outputs": [],
   "source": [
    "display(metric_df[metric_df['R_Interval']=='S'].sort_values(by=['Sharpe Ratio','CAGR'], ascending=False))"
   ]
  },
  {
   "cell_type": "code",
   "execution_count": null,
   "id": "a4cce654",
   "metadata": {},
   "outputs": [],
   "source": [
    "metric_df.to_csv(\"Port_Metric.csv\", index=False)"
   ]
  },
  {
   "cell_type": "code",
   "execution_count": null,
   "id": "9080def4",
   "metadata": {},
   "outputs": [],
   "source": [
    "for obj in objectives:\n",
    "    for r in reb_interval:\n",
    "        for rm in rms:\n",
    "            models[obj][r][rm].to_csv(f\"weights_{obj}_{r}_{rm}.csv\")"
   ]
  },
  {
   "cell_type": "code",
   "execution_count": null,
   "id": "9b6696a9",
   "metadata": {},
   "outputs": [],
   "source": []
  }
 ],
 "metadata": {
  "kernelspec": {
   "display_name": "Python 3 (ipykernel)",
   "language": "python",
   "name": "python3"
  },
  "language_info": {
   "codemirror_mode": {
    "name": "ipython",
    "version": 3
   },
   "file_extension": ".py",
   "mimetype": "text/x-python",
   "name": "python",
   "nbconvert_exporter": "python",
   "pygments_lexer": "ipython3",
   "version": "3.8.10"
  }
 },
 "nbformat": 4,
 "nbformat_minor": 5
}
